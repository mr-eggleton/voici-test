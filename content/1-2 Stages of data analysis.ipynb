{
  "metadata": {
    "kernelspec": {
      "name": "python",
      "display_name": "Python (Pyodide)",
      "language": "python"
    },
    "language_info": {
      "codemirror_mode": {
        "name": "python",
        "version": 3
      },
      "file_extension": ".py",
      "mimetype": "text/x-python",
      "name": "python",
      "nbconvert_exporter": "python",
      "pygments_lexer": "ipython3",
      "version": "3.8"
    },
    "kernel_info": {
      "name": "python"
    },
    "nteract": {
      "version": "nteract-front-end@1.0.0"
    }
  },
  "nbformat_minor": 4,
  "nbformat": 4,
  "cells": [
    {
      "cell_type": "markdown",
      "source": "# 1.2 Stages of data analysis\n\n1. Investigate information requirements\n2. Data collection\n3. Data organisation \n4. Data storage \n5. Data cleansing\n6. Data manipulation\n7. Presentation of findings ",
      "metadata": {
        "tags": [],
        "editable": false,
        "slideshow": {
          "slide_type": "slide"
        }
      }
    },
    {
      "cell_type": "markdown",
      "source": "## Remember \"Shift + Enter\"",
      "metadata": {
        "tags": [],
        "editable": false,
        "slideshow": {
          "slide_type": ""
        }
      }
    },
    {
      "cell_type": "markdown",
      "source": "## Setup",
      "metadata": {
        "nteract": {
          "transient": {
            "deleting": false
          }
        },
        "tags": [],
        "editable": false,
        "slideshow": {
          "slide_type": "slide"
        }
      }
    },
    {
      "cell_type": "code",
      "source": "import micropip\nawait micropip.install([\"pyoliteutils\", \"xlrd\"])",
      "metadata": {
        "jupyter": {
          "source_hidden": false,
          "outputs_hidden": false
        },
        "nteract": {
          "transient": {
            "deleting": false
          }
        },
        "collapsed": false,
        "trusted": true,
        "tags": [],
        "editable": false,
        "slideshow": {
          "slide_type": ""
        }
      },
      "outputs": [],
      "execution_count": null
    },
    {
      "cell_type": "code",
      "source": "from pyoliteutils import *\nimport pyoliteutils\nimport pandas as pd\nimport matplotlib.pyplot as plt\n\npyoliteutils.__version__",
      "metadata": {
        "jupyter": {
          "source_hidden": false,
          "outputs_hidden": false
        },
        "nteract": {
          "transient": {
            "deleting": false
          }
        },
        "collapsed": false,
        "trusted": true,
        "tags": [],
        "editable": false,
        "slideshow": {
          "slide_type": ""
        }
      },
      "outputs": [],
      "execution_count": null
    },
    {
      "cell_type": "markdown",
      "source": "## 1.2 Stages of data analysis",
      "metadata": {
        "nteract": {
          "transient": {
            "deleting": false
          }
        },
        "tags": [],
        "editable": true,
        "slideshow": {
          "slide_type": "slide"
        }
      }
    },
    {
      "cell_type": "code",
      "source": "mm(\"\"\"\nmindmap\n  root{{Stages of data analysis}}\n    1(Investigate information requirements)\n        What do we need to know to make a decision\\?\n            e.g. market share, particulates in the air, testing of new drugs\n    2(Data collection)\n        How can we gather that data\n            e.g. observations, interviews, review of existing data\n    3(Data organisation) \n        How to organise the data so we can work with it\n            e.g. digitalisation, transcription, sorting, data mining\n    4(Data storage)\n        How and where to store the data\n            e.g. in-house, external\n    5(Data cleansing) \n        Tidying up the data\n            e.g. errors, missing elements, duplicates\n    6(Data manipulation) \n        Working with the information to find the knowledge\n            e.g. arranging, collating, aggregating, interpreting, correlation\n    7(Presentation of findings) \n        Seeing the knowledge so you can make Wise decision\n            e.g. tables, charts, graphs, dashboard, reports\n\"\"\")",
      "metadata": {
        "jupyter": {
          "source_hidden": false,
          "outputs_hidden": false
        },
        "nteract": {
          "transient": {
            "deleting": false
          }
        },
        "collapsed": false,
        "trusted": true,
        "tags": [],
        "editable": true,
        "slideshow": {
          "slide_type": ""
        }
      },
      "outputs": [],
      "execution_count": null
    },
    {
      "cell_type": "markdown",
      "source": "### Note : New Technique\nThe ```mm(diagramtext)``` function displays diagrams based on the Mermaid diagramming language. <https://mermaid.live/>\n",
      "metadata": {
        "jupyter": {
          "source_hidden": false,
          "outputs_hidden": false
        },
        "nteract": {
          "transient": {
            "deleting": false
          }
        },
        "collapsed": false,
        "tags": [],
        "editable": false,
        "slideshow": {
          "slide_type": ""
        }
      }
    },
    {
      "cell_type": "markdown",
      "source": "## 1 : Investigate Information Requirements \n\n### What do we need to know to make a decision?\n#### What is the question / decision?\n\ne.g.\n- Is a new drug safe?\n- Should I invest in shares in this company now?",
      "metadata": {
        "tags": [],
        "editable": false,
        "slideshow": {
          "slide_type": "slide"
        }
      }
    },
    {
      "cell_type": "markdown",
      "source": "### Question : \"Should we try to reduce CO2 in the atmosphere to reduce climate change?\"\n\n#### What do we need to know?",
      "metadata": {
        "tags": [],
        "editable": false,
        "slideshow": {
          "slide_type": "slide"
        }
      }
    },
    {
      "cell_type": "markdown",
      "source": "Double click here to enter your ideas as text OR:",
      "metadata": {
        "tags": [],
        "editable": true,
        "slideshow": {
          "slide_type": ""
        }
      }
    },
    {
      "cell_type": "code",
      "source": "mm(\"\"\"\nmindmap\n  root{{What do we need to know}}\n    Idea 1\n    Idea 2\n        Related Thought\n\"\"\")",
      "metadata": {
        "trusted": true,
        "tags": [],
        "editable": true,
        "slideshow": {
          "slide_type": ""
        }
      },
      "outputs": [],
      "execution_count": null
    },
    {
      "cell_type": "code",
      "source": "",
      "metadata": {
        "trusted": true,
        "tags": [],
        "editable": true,
        "slideshow": {
          "slide_type": ""
        }
      },
      "outputs": [],
      "execution_count": null
    },
    {
      "cell_type": "markdown",
      "source": "## 2 : Data Collection \n\n### How can we gather that data?\n\ne.g. \n* observations\n* interviews\n* review of existing data\n* making sure IT systems record relevant data",
      "metadata": {
        "tags": [],
        "editable": true,
        "slideshow": {
          "slide_type": "slide"
        }
      }
    },
    {
      "cell_type": "markdown",
      "source": "### Task : Gather as many Data Collection methods as you can and group them by Data Types from last week.\n\nIn a table , mindmap or list",
      "metadata": {
        "tags": [],
        "editable": true,
        "slideshow": {
          "slide_type": ""
        }
      }
    },
    {
      "cell_type": "markdown",
      "source": "\n|            | Qualitative| Quantitative|\n|------------|------------|-------------|\n|Structured  |            |             |\n|Unstructured|            |             |",
      "metadata": {
        "tags": [],
        "editable": true,
        "slideshow": {
          "slide_type": ""
        }
      }
    },
    {
      "cell_type": "code",
      "source": "mm(\"\"\"\nmindmap\n  root{{What do we need to know}}\n    Structured Qualitative\n        Idea 1\n    Unstructured Qualitative\n    Structured Quantitative\n    Unstructured Quantitative\n\"\"\")",
      "metadata": {
        "trusted": true,
        "tags": [],
        "editable": true,
        "slideshow": {
          "slide_type": ""
        }
      },
      "outputs": [],
      "execution_count": null
    },
    {
      "cell_type": "code",
      "source": "",
      "metadata": {
        "trusted": true,
        "tags": [],
        "editable": true,
        "slideshow": {
          "slide_type": ""
        }
      },
      "outputs": [],
      "execution_count": null
    },
    {
      "cell_type": "markdown",
      "source": "### Data Collection for \"Should we try to reduce CO2 in the atmosphere to reduce climate change?\"\n\n- Existing data:\n    - Observations of temperature over time over the globe\n    - Observations of temperature over older times derived from ice cores <https://data.ess-dive.lbl.gov/catalog/d1/mn/v2/object/ess-dive-1e57f3f83864c10-20180717T104354142744>\n    - Observations of CO2 in the atmosphere over time (recent and ice core based)\n- Collecting new data\n    - Thermometers around the world",
      "metadata": {
        "tags": [],
        "editable": true,
        "slideshow": {
          "slide_type": "slide"
        }
      }
    },
    {
      "cell_type": "markdown",
      "source": "## 3: Data Organisation \n\n### How to organise the data so we can work with it\n\ne.g. \n* digitalisation\n* transcription\n* sorting\n* data mining",
      "metadata": {
        "tags": [],
        "editable": false,
        "slideshow": {
          "slide_type": "slide"
        }
      }
    },
    {
      "cell_type": "markdown",
      "source": "## 4: Data Storage\n\n### How and where to store the data\n\ne.g. \n* in–house\n* external\n* Online in open datasets",
      "metadata": {
        "tags": [],
        "editable": true,
        "slideshow": {
          "slide_type": "slide"
        }
      }
    },
    {
      "cell_type": "markdown",
      "source": "#### Loading from online Datasets",
      "metadata": {
        "tags": [],
        "editable": true,
        "slideshow": {
          "slide_type": "slide"
        }
      }
    },
    {
      "cell_type": "code",
      "source": "co2file = await get_file_from_url(\"https://raw.githubusercontent.com/UTCSheffield/OCR-Unit-7-Data-analysis-and-design/main/content/data/annual-co2-emissions-per-country.csv\")\nco2df = pd.read_csv(co2file)\nco2df",
      "metadata": {
        "trusted": true,
        "tags": [],
        "editable": true,
        "slideshow": {
          "slide_type": ""
        }
      },
      "outputs": [],
      "execution_count": null
    },
    {
      "cell_type": "code",
      "source": "",
      "metadata": {
        "trusted": true,
        "tags": [],
        "editable": true,
        "slideshow": {
          "slide_type": ""
        }
      },
      "outputs": [],
      "execution_count": null
    },
    {
      "cell_type": "code",
      "source": "tempfile = await get_file_from_url(\"https://raw.githubusercontent.com/UTCSheffield/OCR-Unit-7-Data-analysis-and-design/main/content/data/temperature-anomaly.csv\")\ntempdf = pd.read_csv(tempfile)\ntempdf",
      "metadata": {
        "trusted": true,
        "tags": [],
        "editable": true,
        "slideshow": {
          "slide_type": "slide"
        }
      },
      "outputs": [],
      "execution_count": null
    },
    {
      "cell_type": "code",
      "source": "",
      "metadata": {
        "trusted": true,
        "tags": [],
        "editable": true,
        "slideshow": {
          "slide_type": "slide"
        }
      },
      "outputs": [],
      "execution_count": null
    },
    {
      "cell_type": "markdown",
      "source": "## 5: Data Cleansing\n\ne.g.\n* errors\n* missing elements\n* duplicates",
      "metadata": {
        "tags": [],
        "editable": true,
        "slideshow": {
          "slide_type": ""
        }
      }
    },
    {
      "cell_type": "markdown",
      "source": "## 6: Data Manipulation\n\ne.g. \n* arranging\n* collating\n* aggregating\n* interpreting\n* correlation",
      "metadata": {
        "tags": [],
        "editable": true,
        "slideshow": {
          "slide_type": ""
        }
      }
    },
    {
      "cell_type": "markdown",
      "source": "### Arranging",
      "metadata": {
        "jupyter": {
          "source_hidden": false,
          "outputs_hidden": false
        },
        "nteract": {
          "transient": {
            "deleting": false
          }
        },
        "collapsed": false,
        "tags": [],
        "editable": true,
        "slideshow": {
          "slide_type": "slide"
        }
      }
    },
    {
      "cell_type": "code",
      "source": "worldco2 = co2df.query(\"Entity == 'World'\")[[\"Year\", \"Annual CO₂ emissions\"]]\nworldco2.set_index(\"Year\")\nworldco2",
      "metadata": {
        "jupyter": {
          "source_hidden": false,
          "outputs_hidden": false
        },
        "nteract": {
          "transient": {
            "deleting": false
          }
        },
        "collapsed": false,
        "trusted": true,
        "tags": [],
        "editable": true,
        "slideshow": {
          "slide_type": ""
        }
      },
      "outputs": [],
      "execution_count": null
    },
    {
      "cell_type": "code",
      "source": "",
      "metadata": {
        "jupyter": {
          "source_hidden": false,
          "outputs_hidden": false
        },
        "nteract": {
          "transient": {
            "deleting": false
          }
        },
        "collapsed": false,
        "trusted": true,
        "tags": [],
        "editable": true,
        "slideshow": {
          "slide_type": ""
        }
      },
      "outputs": [],
      "execution_count": null
    },
    {
      "cell_type": "code",
      "source": "worldtemps = tempdf.query(\"Entity == 'Global'\")[[\"Year\", \"Global average temperature anomaly relative to 1961-1990\"]]\nworldtemps",
      "metadata": {
        "trusted": true,
        "tags": [],
        "editable": true,
        "slideshow": {
          "slide_type": "slide"
        }
      },
      "outputs": [],
      "execution_count": null
    },
    {
      "cell_type": "code",
      "source": "",
      "metadata": {
        "trusted": true,
        "tags": [],
        "editable": true,
        "slideshow": {
          "slide_type": "slide"
        }
      },
      "outputs": [],
      "execution_count": null
    },
    {
      "cell_type": "markdown",
      "source": "## 7: Presentation of Findings\n\ne.g. \n* tables\n* charts\n* graphs\n* dashboard\n* reports",
      "metadata": {
        "tags": [],
        "editable": true,
        "slideshow": {
          "slide_type": ""
        }
      }
    },
    {
      "cell_type": "markdown",
      "source": "### Graphs",
      "metadata": {
        "tags": [],
        "editable": true,
        "slideshow": {
          "slide_type": "slide"
        }
      }
    },
    {
      "cell_type": "code",
      "source": "from bokeh.plotting import figure, show\n\n# create a new plot with a title and axis labels\np1 = figure(title=\"Annual CO₂ emissions\", y_range=(0, 3.5e10), x_axis_label=\"Year\", y_axis_label=\"Annual CO₂ emissions\", height=400, width=1000)\n\n# add a line renderer with legend and line thickness\np1.line(worldco2[\"Year\"], worldco2[\"Annual CO₂ emissions\"], legend_label=\"Temp.\", line_width=2)\n\n# show the results\nshow(p1)",
      "metadata": {
        "jupyter": {
          "source_hidden": false,
          "outputs_hidden": false
        },
        "nteract": {
          "transient": {
            "deleting": false
          }
        },
        "collapsed": false,
        "trusted": true,
        "tags": [],
        "editable": true,
        "slideshow": {
          "slide_type": ""
        }
      },
      "outputs": [],
      "execution_count": null
    },
    {
      "cell_type": "code",
      "source": "",
      "metadata": {
        "jupyter": {
          "source_hidden": false,
          "outputs_hidden": false
        },
        "nteract": {
          "transient": {
            "deleting": false
          }
        },
        "collapsed": false,
        "trusted": true,
        "tags": [],
        "editable": true,
        "slideshow": {
          "slide_type": ""
        }
      },
      "outputs": [],
      "execution_count": null
    },
    {
      "cell_type": "code",
      "source": "# create a new plot with a title and axis labels\np2 = figure(title=\"Global average temperature anomaly\", x_axis_label=\"Year\",y_range=(-1, 1), y_axis_label=\"Global average temperature anomaly relative to 1961-1990\", height=400, width=1000)\n# add a line renderer with legend and line thickness\np2.line(worldtemps[\"Year\"], worldtemps[\"Global average temperature anomaly relative to 1961-1990\"], legend_label=\"Temp.\", line_width=2)\n\n# show the results\nshow(p2)",
      "metadata": {
        "jupyter": {
          "source_hidden": false,
          "outputs_hidden": false
        },
        "nteract": {
          "transient": {
            "deleting": false
          }
        },
        "collapsed": false,
        "trusted": true,
        "tags": [],
        "editable": true,
        "slideshow": {
          "slide_type": "slide"
        }
      },
      "outputs": [],
      "execution_count": null
    },
    {
      "cell_type": "code",
      "source": "",
      "metadata": {
        "trusted": true,
        "tags": [],
        "editable": true,
        "slideshow": {
          "slide_type": ""
        }
      },
      "outputs": [],
      "execution_count": null
    },
    {
      "cell_type": "markdown",
      "source": "### Getting better Knowledge out visually",
      "metadata": {
        "tags": [],
        "editable": true,
        "slideshow": {
          "slide_type": "slide"
        }
      }
    },
    {
      "cell_type": "code",
      "source": "from bokeh.layouts import row, column\n# create a new plot with a title and axis labels\nshow(column(p1, p2))",
      "metadata": {
        "jupyter": {
          "source_hidden": false,
          "outputs_hidden": false
        },
        "nteract": {
          "transient": {
            "deleting": false
          }
        },
        "collapsed": false,
        "trusted": true,
        "tags": [],
        "editable": true,
        "slideshow": {
          "slide_type": ""
        }
      },
      "outputs": [],
      "execution_count": null
    },
    {
      "cell_type": "code",
      "source": "",
      "metadata": {
        "trusted": true,
        "tags": [],
        "editable": true,
        "slideshow": {
          "slide_type": ""
        }
      },
      "outputs": [],
      "execution_count": null
    },
    {
      "cell_type": "markdown",
      "source": "## What can you tell from the graphs?",
      "metadata": {
        "tags": [],
        "editable": false,
        "slideshow": {
          "slide_type": "slide"
        }
      }
    },
    {
      "cell_type": "markdown",
      "source": "Answer here?",
      "metadata": {
        "tags": [],
        "editable": true,
        "slideshow": {
          "slide_type": ""
        }
      }
    },
    {
      "cell_type": "markdown",
      "source": "### Should we try to reduce CO2 in the atmosphere to reduce climate change?\n",
      "metadata": {
        "tags": [],
        "editable": true,
        "slideshow": {
          "slide_type": "slide"
        }
      }
    },
    {
      "cell_type": "markdown",
      "source": "Answer here?",
      "metadata": {
        "tags": [],
        "editable": true,
        "slideshow": {
          "slide_type": ""
        }
      }
    },
    {
      "cell_type": "markdown",
      "source": "### Work in Progress",
      "metadata": {
        "tags": [],
        "editable": true,
        "slideshow": {
          "slide_type": "slide"
        }
      }
    },
    {
      "cell_type": "code",
      "source": "from numpy import arange, linspace, pi, sin\n\nfrom bokeh.layouts import column\nfrom bokeh.models import (CustomJS, LinearAxis, Range1d, Select,\n                          WheelZoomTool, ZoomInTool, ZoomOutTool)\nfrom bokeh.palettes import Bokeh6\n\n\nfrom bokeh.plotting import figure, show\n\n#p1 = figure(title=\"Annual CO₂ emissions\", y_range=(0, 3.5e10), x_axis_label=\"Year\", y_axis_label=\"Annual CO₂ emissions\", height=400, width=1000)\n\n# add a line renderer with legend and line thickness\n#p.line(worldco2[\"Year\"], worldco2[\"Annual CO₂ emissions\"], legend_label=\"Temp.\", line_width=2)\n\n\n# create a new plot with a title and axis labels\n#p2 = figure(title=\"Global average temperature anomaly\", x_axis_label=\"Year\",y_range=(-1, 1), y_axis_label=\"Global average temperature anomaly relative to 1961-1990\", height=400, width=1000)\n# add a line renderer with legend and line thickness\n#\n\n\n\nx = arange(-2*pi, 2*pi, 0.2)\ny = sin(x)\ny2 = linspace(0, 100, len(x))\n\nblue, red = Bokeh6[5], Bokeh6[0]\n\np = figure( y_range=(-1, 1))\np.line(worldtemps[\"Year\"], worldtemps[\"Global average temperature anomaly relative to 1961-1990\"], legend_label=\"Temp.\", line_width=2)\n\np.background_fill_color = \"#fafafa\"\n\n\np.axis.axis_label = \"Year\"\np.axis.axis_label_text_color = blue\n\n#p.extra_x_ranges['foo'] = \np.extra_y_ranges['foo'] = Range1d(0, 3.5e10)\nred_circles = p.scatter(x, y2, color=red, size=8,\n    x_range_name=\"foo\",\n    y_range_name=\"foo\",\n)\n\nax2 = LinearAxis(\n    axis_label=\"red circles\",\n    x_range_name=\"foo\",\n    y_range_name=\"foo\",\n)\nax2.axis_label_text_color = red\np.add_layout(ax2, 'left')\n\nax3 = LinearAxis(\n    axis_label=\"red circles\",\n    x_range_name=\"foo\",\n    y_range_name=\"foo\",\n)\nax3.axis_label_text_color = red\np.add_layout(ax3, 'below')\n\nfrom bokeh.io import output_notebook\noutput_notebook()\n\ntry:\n    show(p)\n    #show(column(select, p))\nexcept ImportError:\n    pass\n",
      "metadata": {
        "jupyter": {
          "source_hidden": false,
          "outputs_hidden": false
        },
        "nteract": {
          "transient": {
            "deleting": false
          }
        },
        "collapsed": false,
        "trusted": true,
        "tags": [],
        "editable": true,
        "slideshow": {
          "slide_type": ""
        }
      },
      "outputs": [],
      "execution_count": null
    },
    {
      "cell_type": "code",
      "source": "",
      "metadata": {
        "jupyter": {
          "source_hidden": false,
          "outputs_hidden": false
        },
        "nteract": {
          "transient": {
            "deleting": false
          }
        },
        "collapsed": false,
        "trusted": true
      },
      "outputs": [],
      "execution_count": null
    }
  ]
}