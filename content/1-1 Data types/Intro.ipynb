{
  "metadata": {
    "kernelspec": {
      "display_name": "Python (Pyodide)",
      "language": "python",
      "name": "python"
    },
    "language_info": {
      "codemirror_mode": {
        "name": "python",
        "version": 3
      },
      "file_extension": ".py",
      "mimetype": "text/x-python",
      "name": "python",
      "nbconvert_exporter": "python",
      "pygments_lexer": "ipython3",
      "version": "3.8"
    }
  },
  "nbformat_minor": 4,
  "nbformat": 4,
  "cells": [
    {
      "cell_type": "markdown",
      "source": "# Jupyter Notebooks\n\nSome sessions will be delivered using these notebooks within Teams assignments. This is an experiment but it should mean we explore can explore data and code whilst taking notes and storing your work.\n\n- Assignment : Lesson 1 : Data Types\r- \nOpen Intro2.ipynb\n- **Trust** it\n- Hit **Continue** in the top rightf\nClick \"Shift + Enter\" to pass though each block\ned)\r\n\r\nYou will be pressing \"Shift + Enter\" a lot. There are blank blocks between slides thou you just need to \"Shift + Enter\" through",
      "metadata": {
        "editable": true,
        "slideshow": {
          "slide_type": "slide"
        },
        "tags": []
      }
    },
    {
      "cell_type": "markdown",
      "source": "## Jupyter can run Python code\n\nClick in the code below to change the STUDENT variable to your name.\n\nThen press \"Shift + Enter\" ",
      "metadata": {
        "editable": true,
        "slideshow": {
          "slide_type": "slide"
        },
        "tags": []
      }
    },
    {
      "cell_type": "code",
      "source": "STUDENT = \"Change Me\"\n\nprint(\"Hi \"+ STUDENT+ \", welcome to Unit 7\")",
      "metadata": {
        "editable": true,
        "slideshow": {
          "slide_type": ""
        },
        "tags": [],
        "trusted": true
      },
      "outputs": [],
      "execution_count": null
    },
    {
      "cell_type": "code",
      "source": "",
      "metadata": {
        "trusted": true,
        "tags": [],
        "editable": true,
        "slideshow": {
          "slide_type": ""
        }
      },
      "outputs": [],
      "execution_count": null
    },
    {
      "cell_type": "markdown",
      "source": "### Run the Python code below to set some stuff up for later ",
      "metadata": {
        "editable": true,
        "slideshow": {
          "slide_type": "slide"
        },
        "tags": []
      }
    },
    {
      "cell_type": "code",
      "source": "from urllib.parse import urlencode\nimport json\nimport pandas as pd\nfrom js import fetch\n\nANSWERURL = \"https://utc-olp-api-proxy.glitch.me/lessonsurvey/answer\"\nSTUDENT = \"Change Me\"\n\nasync def send_answer(q=\"Change Me\", a=\"Change Me\"):\n    URL2 = ANSWERURL + \"?\"+urlencode({\"question\":q,\"answer\":a, \"student\":STUDENT})\n    res = await fetch(URL2)\n    #res = await fetch(URL  + \"?\" + urlencode({\"q\":1, \"answer\":ans}))\n    text = await res.text()\n    return text\n\nasync def ShowAnswers(question=None):\n    res = await fetch(\"https://utc-olp-api-proxy.glitch.me/lessonsurvey/answers\")\n    text = await res.text()\n    data = pd.read_json(text)\n    return data",
      "metadata": {
        "editable": true,
        "slideshow": {
          "slide_type": ""
        },
        "tags": [],
        "trusted": true
      },
      "outputs": [],
      "execution_count": null
    },
    {
      "cell_type": "markdown",
      "source": "# 1.1 Data types\n\n## What is data?\n",
      "metadata": {
        "editable": true,
        "slideshow": {
          "slide_type": "slide"
        },
        "tags": []
      }
    },
    {
      "cell_type": "markdown",
      "source": "## Data to Wisdom\n\n### Knowledge is knowing that a Tomato is a fruit",
      "metadata": {
        "editable": true,
        "slideshow": {
          "slide_type": "slide"
        },
        "tags": []
      }
    },
    {
      "cell_type": "markdown",
      "source": "### Wisdom is not putting it in a fruit salad ",
      "metadata": {
        "editable": true,
        "slideshow": {
          "slide_type": "fragment"
        },
        "tags": []
      }
    },
    {
      "cell_type": "markdown",
      "source": "\n<https://www.cipher-sys.com/blog/data-vs-information-vs-knowledge-vs-wisdom>\n",
      "metadata": {
        "editable": true,
        "slideshow": {
          "slide_type": ""
        },
        "tags": []
      }
    },
    {
      "cell_type": "markdown",
      "source": "## What is Data vs Information vs Knowledge vs Wisdom?\n\nN.B. Double click here to edit this area and answer the question in your own words.\n\nUse \"Shift + Enter\" to move on.\n",
      "metadata": {
        "editable": true,
        "slideshow": {
          "slide_type": "slide"
        },
        "tags": []
      }
    },
    {
      "cell_type": "markdown",
      "source": "## Qualitative & Quantitative Data\n\nCovered in Unit 2\n",
      "metadata": {
        "editable": true,
        "slideshow": {
          "slide_type": "slide"
        },
        "tags": []
      }
    },
    {
      "cell_type": "markdown",
      "source": "### What is Qualitative Data ?\n\nYour Own Words\n\n#### Examples\n\nYour Examples",
      "metadata": {
        "editable": true,
        "slideshow": {
          "slide_type": "slide"
        },
        "tags": []
      }
    },
    {
      "cell_type": "markdown",
      "source": "### What is Quantitative Data ?\nYour Own Words\n\n#### Examples\n\nYour Examples\n",
      "metadata": {
        "editable": true,
        "slideshow": {
          "slide_type": "slide"
        },
        "tags": []
      }
    },
    {
      "cell_type": "markdown",
      "source": "## Structured Data\n\n<https://aws.amazon.com/what-is/structured-data/>\n",
      "metadata": {
        "editable": true,
        "slideshow": {
          "slide_type": "slide"
        },
        "tags": []
      }
    },
    {
      "cell_type": "markdown",
      "source": "This data is organised in a predefined way with a structure declaring what each piece of data should contain and what format it is in. This gives it context and means it is information.\n",
      "metadata": {
        "editable": true,
        "slideshow": {
          "slide_type": "fragment"
        },
        "tags": []
      }
    },
    {
      "cell_type": "markdown",
      "source": "### Your Own Words \n\n?\n\n#### Examples\n\n?",
      "metadata": {
        "editable": true,
        "slideshow": {
          "slide_type": ""
        },
        "tags": []
      }
    },
    {
      "cell_type": "markdown",
      "source": "## Unstructured\n\nUnstructured data is information with no set data definition, schema or model, or data that has not yet been processed into structured data. \n\nUnstructured data includes:\n* Text files\n* Video files\n* Reports\n* Email\n* Images\n",
      "metadata": {
        "editable": true,
        "slideshow": {
          "slide_type": "slide"
        },
        "tags": []
      }
    },
    {
      "cell_type": "markdown",
      "source": "### Unstructured Data in the real world\n\nBusinesses create huge amounts of data all the time. The less than 20% of that new data is Structured. \n\nAlmost all unstructured data is qualitative but there are some numbers (quanititive data) buried in there.\n\nYou need to put lots of effort into getting information out of Unstructured data, because  you need to find the parts that fit a particular context. Searching all your emails for a phone number you could have put in your phone contacts takes ages.\n",
      "metadata": {
        "editable": true,
        "slideshow": {
          "slide_type": "slide"
        },
        "tags": []
      }
    },
    {
      "cell_type": "markdown",
      "source": "## Examples of extracting information from different types of data\n\n|.           | Qualitative| Quantitative|\n|------------|------------|-------------|\n|Structured | [Where Does Andrew Live?](Personnel%20Records.ipynb) | [What's the biggest Penguin?](Penguins.ipynb) |\n|Unstructured| [What people are tweeting about ChatGPT?](ChatGPT%20Tweets.ipynb) | [How many right footed goals were scored in a Football match?](Football%20Data.ipynb) |",
      "metadata": {
        "editable": true,
        "slideshow": {
          "slide_type": "slide"
        },
        "tags": []
      }
    },
    {
      "cell_type": "code",
      "source": "",
      "metadata": {
        "editable": true,
        "slideshow": {
          "slide_type": ""
        },
        "tags": [],
        "trusted": true
      },
      "outputs": [],
      "execution_count": null
    }
  ]
}