{
  "metadata": {
    "kernelspec": {
      "name": "python",
      "display_name": "Python (Pyodide)",
      "language": "python"
    },
    "language_info": {
      "codemirror_mode": {
        "name": "python",
        "version": 3
      },
      "file_extension": ".py",
      "mimetype": "text/x-python",
      "name": "python",
      "nbconvert_exporter": "python",
      "pygments_lexer": "ipython3",
      "version": "3.8"
    },
    "kernel_info": {
      "name": "python"
    },
    "nteract": {
      "version": "nteract-front-end@1.0.0"
    }
  },
  "nbformat_minor": 4,
  "nbformat": 4,
  "cells": [
    {
      "cell_type": "markdown",
      "source": "# Structured & Qualitative example\n## Where Does Andrew Live?\nPress \"Shift + Enter\" to run code & step through the text\n",
      "metadata": {
        "editable": true,
        "slideshow": {
          "slide_type": "slide"
        },
        "tags": []
      }
    },
    {
      "cell_type": "markdown",
      "source": "## Set up\nPress \"Shift + Enter\"",
      "metadata": {
        "editable": true,
        "slideshow": {
          "slide_type": "slide"
        },
        "tags": []
      }
    },
    {
      "cell_type": "code",
      "source": "# Ish via https://til.simonwillison.net/python/sqlite-in-pyodide\nfrom js import fetch\n \nasync def load_file_into_in_mem_filesystem(url, fn=None):\n    \"\"\"Load a file from a URL into an in-memory filesystem.\"\"\"\n     \n    # Create a filename if required\n    fn = fn if fn is not None else url.split(\"/\")[-1]\n     \n    # Fetch file from URL\n    res = await fetch(url)\n     \n    # Buffer it\n    buffer = await res.arrayBuffer()\n     \n    # Write file to in-memory file system\n    open(fn, \"wb\").write(bytes(buffer.valueOf().to_py()))\n \n    return fn\n",
      "metadata": {
        "editable": true,
        "slideshow": {
          "slide_type": ""
        },
        "tags": [],
        "trusted": true,
        "vscode": {
          "languageId": "sql"
        }
      },
      "outputs": [],
      "execution_count": 1
    },
    {
      "cell_type": "markdown",
      "source": "## Download a database\n\nSQL or Relational Databases are the mainstay of Structured data in the enterprise",
      "metadata": {
        "editable": true,
        "slideshow": {
          "slide_type": "slide"
        },
        "tags": []
      }
    },
    {
      "cell_type": "code",
      "source": "url=\"https://raw.githubusercontent.com/UTCSheffield/OCR-Unit-7-Data-analysis-and-design/main/content/data/chinook.db\"\n \ndb_file = await load_file_into_in_mem_filesystem(url)",
      "metadata": {
        "editable": true,
        "slideshow": {
          "slide_type": ""
        },
        "tags": [],
        "trusted": true,
        "vscode": {
          "languageId": "sql"
        }
      },
      "outputs": [],
      "execution_count": 2
    },
    {
      "cell_type": "code",
      "source": "",
      "metadata": {
        "editable": true,
        "slideshow": {
          "slide_type": ""
        },
        "tags": [],
        "trusted": true
      },
      "outputs": [],
      "execution_count": null
    },
    {
      "cell_type": "markdown",
      "source": "## Connect to the database",
      "metadata": {
        "editable": true,
        "slideshow": {
          "slide_type": "slide"
        },
        "tags": []
      }
    },
    {
      "cell_type": "code",
      "source": "import sqlite3\nimport pandas as pd\n\n# Open database connection\nc = sqlite3.connect(db_file)\n \nemployees = pd.read_sql_query(\"SELECT * FROM employees\", c)\n\n# list all the employees\nemployees",
      "metadata": {
        "editable": true,
        "slideshow": {
          "slide_type": ""
        },
        "tags": [],
        "trusted": true,
        "vscode": {
          "languageId": "sql"
        }
      },
      "outputs": [
        {
          "execution_count": 3,
          "output_type": "execute_result",
          "data": {
            "text/plain": "   EmployeeId  LastName FirstName                Title  ReportsTo  \\\n0           1     Adams    Andrew      General Manager        NaN   \n1           2   Edwards     Nancy        Sales Manager        1.0   \n2           3   Peacock      Jane  Sales Support Agent        2.0   \n3           4      Park  Margaret  Sales Support Agent        2.0   \n4           5   Johnson     Steve  Sales Support Agent        2.0   \n5           6  Mitchell   Michael           IT Manager        1.0   \n6           7      King    Robert             IT Staff        6.0   \n7           8  Callahan     Laura             IT Staff        6.0   \n\n             BirthDate             HireDate                      Address  \\\n0  1962-02-18 00:00:00  2002-08-14 00:00:00          11120 Jasper Ave NW   \n1  1958-12-08 00:00:00  2002-05-01 00:00:00                 825 8 Ave SW   \n2  1973-08-29 00:00:00  2002-04-01 00:00:00                1111 6 Ave SW   \n3  1947-09-19 00:00:00  2003-05-03 00:00:00             683 10 Street SW   \n4  1965-03-03 00:00:00  2003-10-17 00:00:00                 7727B 41 Ave   \n5  1973-07-01 00:00:00  2003-10-17 00:00:00         5827 Bowness Road NW   \n6  1970-05-29 00:00:00  2004-01-02 00:00:00  590 Columbia Boulevard West   \n7  1968-01-09 00:00:00  2004-03-04 00:00:00                  923 7 ST NW   \n\n         City State Country PostalCode              Phone                Fax  \\\n0    Edmonton    AB  Canada    T5K 2N1  +1 (780) 428-9482  +1 (780) 428-3457   \n1     Calgary    AB  Canada    T2P 2T3  +1 (403) 262-3443  +1 (403) 262-3322   \n2     Calgary    AB  Canada    T2P 5M5  +1 (403) 262-3443  +1 (403) 262-6712   \n3     Calgary    AB  Canada    T2P 5G3  +1 (403) 263-4423  +1 (403) 263-4289   \n4     Calgary    AB  Canada    T3B 1Y7   1 (780) 836-9987   1 (780) 836-9543   \n5     Calgary    AB  Canada    T3B 0C5  +1 (403) 246-9887  +1 (403) 246-9899   \n6  Lethbridge    AB  Canada    T1K 5N8  +1 (403) 456-9986  +1 (403) 456-8485   \n7  Lethbridge    AB  Canada    T1H 1Y8  +1 (403) 467-3351  +1 (403) 467-8772   \n\n                      Email  \n0    andrew@chinookcorp.com  \n1     nancy@chinookcorp.com  \n2      jane@chinookcorp.com  \n3  margaret@chinookcorp.com  \n4     steve@chinookcorp.com  \n5   michael@chinookcorp.com  \n6    robert@chinookcorp.com  \n7     laura@chinookcorp.com  ",
            "text/html": "<div>\n<style scoped>\n    .dataframe tbody tr th:only-of-type {\n        vertical-align: middle;\n    }\n\n    .dataframe tbody tr th {\n        vertical-align: top;\n    }\n\n    .dataframe thead th {\n        text-align: right;\n    }\n</style>\n<table border=\"1\" class=\"dataframe\">\n  <thead>\n    <tr style=\"text-align: right;\">\n      <th></th>\n      <th>EmployeeId</th>\n      <th>LastName</th>\n      <th>FirstName</th>\n      <th>Title</th>\n      <th>ReportsTo</th>\n      <th>BirthDate</th>\n      <th>HireDate</th>\n      <th>Address</th>\n      <th>City</th>\n      <th>State</th>\n      <th>Country</th>\n      <th>PostalCode</th>\n      <th>Phone</th>\n      <th>Fax</th>\n      <th>Email</th>\n    </tr>\n  </thead>\n  <tbody>\n    <tr>\n      <th>0</th>\n      <td>1</td>\n      <td>Adams</td>\n      <td>Andrew</td>\n      <td>General Manager</td>\n      <td>NaN</td>\n      <td>1962-02-18 00:00:00</td>\n      <td>2002-08-14 00:00:00</td>\n      <td>11120 Jasper Ave NW</td>\n      <td>Edmonton</td>\n      <td>AB</td>\n      <td>Canada</td>\n      <td>T5K 2N1</td>\n      <td>+1 (780) 428-9482</td>\n      <td>+1 (780) 428-3457</td>\n      <td>andrew@chinookcorp.com</td>\n    </tr>\n    <tr>\n      <th>1</th>\n      <td>2</td>\n      <td>Edwards</td>\n      <td>Nancy</td>\n      <td>Sales Manager</td>\n      <td>1.0</td>\n      <td>1958-12-08 00:00:00</td>\n      <td>2002-05-01 00:00:00</td>\n      <td>825 8 Ave SW</td>\n      <td>Calgary</td>\n      <td>AB</td>\n      <td>Canada</td>\n      <td>T2P 2T3</td>\n      <td>+1 (403) 262-3443</td>\n      <td>+1 (403) 262-3322</td>\n      <td>nancy@chinookcorp.com</td>\n    </tr>\n    <tr>\n      <th>2</th>\n      <td>3</td>\n      <td>Peacock</td>\n      <td>Jane</td>\n      <td>Sales Support Agent</td>\n      <td>2.0</td>\n      <td>1973-08-29 00:00:00</td>\n      <td>2002-04-01 00:00:00</td>\n      <td>1111 6 Ave SW</td>\n      <td>Calgary</td>\n      <td>AB</td>\n      <td>Canada</td>\n      <td>T2P 5M5</td>\n      <td>+1 (403) 262-3443</td>\n      <td>+1 (403) 262-6712</td>\n      <td>jane@chinookcorp.com</td>\n    </tr>\n    <tr>\n      <th>3</th>\n      <td>4</td>\n      <td>Park</td>\n      <td>Margaret</td>\n      <td>Sales Support Agent</td>\n      <td>2.0</td>\n      <td>1947-09-19 00:00:00</td>\n      <td>2003-05-03 00:00:00</td>\n      <td>683 10 Street SW</td>\n      <td>Calgary</td>\n      <td>AB</td>\n      <td>Canada</td>\n      <td>T2P 5G3</td>\n      <td>+1 (403) 263-4423</td>\n      <td>+1 (403) 263-4289</td>\n      <td>margaret@chinookcorp.com</td>\n    </tr>\n    <tr>\n      <th>4</th>\n      <td>5</td>\n      <td>Johnson</td>\n      <td>Steve</td>\n      <td>Sales Support Agent</td>\n      <td>2.0</td>\n      <td>1965-03-03 00:00:00</td>\n      <td>2003-10-17 00:00:00</td>\n      <td>7727B 41 Ave</td>\n      <td>Calgary</td>\n      <td>AB</td>\n      <td>Canada</td>\n      <td>T3B 1Y7</td>\n      <td>1 (780) 836-9987</td>\n      <td>1 (780) 836-9543</td>\n      <td>steve@chinookcorp.com</td>\n    </tr>\n    <tr>\n      <th>5</th>\n      <td>6</td>\n      <td>Mitchell</td>\n      <td>Michael</td>\n      <td>IT Manager</td>\n      <td>1.0</td>\n      <td>1973-07-01 00:00:00</td>\n      <td>2003-10-17 00:00:00</td>\n      <td>5827 Bowness Road NW</td>\n      <td>Calgary</td>\n      <td>AB</td>\n      <td>Canada</td>\n      <td>T3B 0C5</td>\n      <td>+1 (403) 246-9887</td>\n      <td>+1 (403) 246-9899</td>\n      <td>michael@chinookcorp.com</td>\n    </tr>\n    <tr>\n      <th>6</th>\n      <td>7</td>\n      <td>King</td>\n      <td>Robert</td>\n      <td>IT Staff</td>\n      <td>6.0</td>\n      <td>1970-05-29 00:00:00</td>\n      <td>2004-01-02 00:00:00</td>\n      <td>590 Columbia Boulevard West</td>\n      <td>Lethbridge</td>\n      <td>AB</td>\n      <td>Canada</td>\n      <td>T1K 5N8</td>\n      <td>+1 (403) 456-9986</td>\n      <td>+1 (403) 456-8485</td>\n      <td>robert@chinookcorp.com</td>\n    </tr>\n    <tr>\n      <th>7</th>\n      <td>8</td>\n      <td>Callahan</td>\n      <td>Laura</td>\n      <td>IT Staff</td>\n      <td>6.0</td>\n      <td>1968-01-09 00:00:00</td>\n      <td>2004-03-04 00:00:00</td>\n      <td>923 7 ST NW</td>\n      <td>Lethbridge</td>\n      <td>AB</td>\n      <td>Canada</td>\n      <td>T1H 1Y8</td>\n      <td>+1 (403) 467-3351</td>\n      <td>+1 (403) 467-8772</td>\n      <td>laura@chinookcorp.com</td>\n    </tr>\n  </tbody>\n</table>\n</div>"
          },
          "metadata": {}
        }
      ],
      "execution_count": 3
    },
    {
      "cell_type": "code",
      "source": "",
      "metadata": {
        "editable": true,
        "slideshow": {
          "slide_type": ""
        },
        "tags": [],
        "trusted": true
      },
      "outputs": [],
      "execution_count": null
    },
    {
      "cell_type": "markdown",
      "source": "## Just the IT Staff",
      "metadata": {
        "nteract": {
          "transient": {
            "deleting": false
          }
        },
        "tags": [],
        "editable": true,
        "slideshow": {
          "slide_type": "slide"
        }
      }
    },
    {
      "cell_type": "code",
      "source": "employees_fitered = pd.read_sql_query(\"SELECT EmployeeId, FirstName, LastName, Email, Title, HireDate FROM employees WHERE Title='IT Staff' ORDER BY HireDate;\", c)\nemployees_fitered",
      "metadata": {
        "trusted": true,
        "vscode": {
          "languageId": "sql"
        }
      },
      "outputs": [
        {
          "execution_count": 4,
          "output_type": "execute_result",
          "data": {
            "text/plain": "   EmployeeId FirstName  LastName                   Email     Title  \\\n0           7    Robert      King  robert@chinookcorp.com  IT Staff   \n1           8     Laura  Callahan   laura@chinookcorp.com  IT Staff   \n\n              HireDate  \n0  2004-01-02 00:00:00  \n1  2004-03-04 00:00:00  ",
            "text/html": "<div>\n<style scoped>\n    .dataframe tbody tr th:only-of-type {\n        vertical-align: middle;\n    }\n\n    .dataframe tbody tr th {\n        vertical-align: top;\n    }\n\n    .dataframe thead th {\n        text-align: right;\n    }\n</style>\n<table border=\"1\" class=\"dataframe\">\n  <thead>\n    <tr style=\"text-align: right;\">\n      <th></th>\n      <th>EmployeeId</th>\n      <th>FirstName</th>\n      <th>LastName</th>\n      <th>Email</th>\n      <th>Title</th>\n      <th>HireDate</th>\n    </tr>\n  </thead>\n  <tbody>\n    <tr>\n      <th>0</th>\n      <td>7</td>\n      <td>Robert</td>\n      <td>King</td>\n      <td>robert@chinookcorp.com</td>\n      <td>IT Staff</td>\n      <td>2004-01-02 00:00:00</td>\n    </tr>\n    <tr>\n      <th>1</th>\n      <td>8</td>\n      <td>Laura</td>\n      <td>Callahan</td>\n      <td>laura@chinookcorp.com</td>\n      <td>IT Staff</td>\n      <td>2004-03-04 00:00:00</td>\n    </tr>\n  </tbody>\n</table>\n</div>"
          },
          "metadata": {}
        }
      ],
      "execution_count": 4
    },
    {
      "cell_type": "code",
      "source": "",
      "metadata": {
        "trusted": true,
        "tags": [],
        "editable": true,
        "slideshow": {
          "slide_type": ""
        }
      },
      "outputs": [],
      "execution_count": null
    },
    {
      "cell_type": "markdown",
      "source": "## Task : Just the staff with Title of \"Sales Support Agent\"\n\n1. Change the code below so the staff with Title of \"Sales Support Agent\" are listed\n2. Order the staff by BirthDate, so you can see who is the youngest",
      "metadata": {
        "nteract": {
          "transient": {
            "deleting": false
          }
        },
        "tags": [],
        "editable": true,
        "slideshow": {
          "slide_type": "slide"
        }
      }
    },
    {
      "cell_type": "code",
      "source": "employees_fitered = pd.read_sql_query(\"SELECT EmployeeId, FirstName, LastName, Email, Title, HireDate FROM employees WHERE Title='IT Staff' ORDER BY HireDate;\", c)\nemployees_fitered",
      "metadata": {
        "jupyter": {
          "outputs_hidden": false,
          "source_hidden": false
        },
        "nteract": {
          "transient": {
            "deleting": false
          }
        },
        "collapsed": false,
        "trusted": true
      },
      "outputs": [
        {
          "execution_count": 5,
          "output_type": "execute_result",
          "data": {
            "text/plain": "   EmployeeId FirstName  LastName                   Email     Title  \\\n0           7    Robert      King  robert@chinookcorp.com  IT Staff   \n1           8     Laura  Callahan   laura@chinookcorp.com  IT Staff   \n\n              HireDate  \n0  2004-01-02 00:00:00  \n1  2004-03-04 00:00:00  ",
            "text/html": "<div>\n<style scoped>\n    .dataframe tbody tr th:only-of-type {\n        vertical-align: middle;\n    }\n\n    .dataframe tbody tr th {\n        vertical-align: top;\n    }\n\n    .dataframe thead th {\n        text-align: right;\n    }\n</style>\n<table border=\"1\" class=\"dataframe\">\n  <thead>\n    <tr style=\"text-align: right;\">\n      <th></th>\n      <th>EmployeeId</th>\n      <th>FirstName</th>\n      <th>LastName</th>\n      <th>Email</th>\n      <th>Title</th>\n      <th>HireDate</th>\n    </tr>\n  </thead>\n  <tbody>\n    <tr>\n      <th>0</th>\n      <td>7</td>\n      <td>Robert</td>\n      <td>King</td>\n      <td>robert@chinookcorp.com</td>\n      <td>IT Staff</td>\n      <td>2004-01-02 00:00:00</td>\n    </tr>\n    <tr>\n      <th>1</th>\n      <td>8</td>\n      <td>Laura</td>\n      <td>Callahan</td>\n      <td>laura@chinookcorp.com</td>\n      <td>IT Staff</td>\n      <td>2004-03-04 00:00:00</td>\n    </tr>\n  </tbody>\n</table>\n</div>"
          },
          "metadata": {}
        }
      ],
      "execution_count": 5
    },
    {
      "cell_type": "code",
      "source": "",
      "metadata": {
        "jupyter": {
          "outputs_hidden": false,
          "source_hidden": false
        },
        "nteract": {
          "transient": {
            "deleting": false
          }
        },
        "collapsed": false,
        "trusted": true
      },
      "outputs": [],
      "execution_count": null
    },
    {
      "cell_type": "markdown",
      "source": "## Where Does Andrew Live?\n\nChange the code below to add the City and Address list and just look for people named Andrew ",
      "metadata": {
        "nteract": {
          "transient": {
            "deleting": false
          }
        },
        "tags": [],
        "editable": true,
        "slideshow": {
          "slide_type": "slide"
        }
      }
    },
    {
      "cell_type": "code",
      "source": "employees_fitered = pd.read_sql_query(\"SELECT EmployeeId, FirstName, LastName, Email, Title, HireDate FROM employees WHERE Title='IT Staff';\", c)\nemployees_fitered",
      "metadata": {
        "jupyter": {
          "outputs_hidden": false,
          "source_hidden": false
        },
        "nteract": {
          "transient": {
            "deleting": false
          }
        },
        "collapsed": false,
        "trusted": true
      },
      "outputs": [
        {
          "execution_count": 6,
          "output_type": "execute_result",
          "data": {
            "text/plain": "   EmployeeId FirstName  LastName                   Email     Title  \\\n0           7    Robert      King  robert@chinookcorp.com  IT Staff   \n1           8     Laura  Callahan   laura@chinookcorp.com  IT Staff   \n\n              HireDate  \n0  2004-01-02 00:00:00  \n1  2004-03-04 00:00:00  ",
            "text/html": "<div>\n<style scoped>\n    .dataframe tbody tr th:only-of-type {\n        vertical-align: middle;\n    }\n\n    .dataframe tbody tr th {\n        vertical-align: top;\n    }\n\n    .dataframe thead th {\n        text-align: right;\n    }\n</style>\n<table border=\"1\" class=\"dataframe\">\n  <thead>\n    <tr style=\"text-align: right;\">\n      <th></th>\n      <th>EmployeeId</th>\n      <th>FirstName</th>\n      <th>LastName</th>\n      <th>Email</th>\n      <th>Title</th>\n      <th>HireDate</th>\n    </tr>\n  </thead>\n  <tbody>\n    <tr>\n      <th>0</th>\n      <td>7</td>\n      <td>Robert</td>\n      <td>King</td>\n      <td>robert@chinookcorp.com</td>\n      <td>IT Staff</td>\n      <td>2004-01-02 00:00:00</td>\n    </tr>\n    <tr>\n      <th>1</th>\n      <td>8</td>\n      <td>Laura</td>\n      <td>Callahan</td>\n      <td>laura@chinookcorp.com</td>\n      <td>IT Staff</td>\n      <td>2004-03-04 00:00:00</td>\n    </tr>\n  </tbody>\n</table>\n</div>"
          },
          "metadata": {}
        }
      ],
      "execution_count": 6
    },
    {
      "cell_type": "code",
      "source": "",
      "metadata": {
        "jupyter": {
          "outputs_hidden": false,
          "source_hidden": false
        },
        "nteract": {
          "transient": {
            "deleting": false
          }
        },
        "collapsed": false,
        "trusted": true
      },
      "outputs": [],
      "execution_count": null
    },
    {
      "cell_type": "markdown",
      "source": "## Joining data from 2 tables",
      "metadata": {
        "nteract": {
          "transient": {
            "deleting": false
          }
        },
        "tags": [],
        "editable": true,
        "slideshow": {
          "slide_type": "slide"
        }
      }
    },
    {
      "cell_type": "code",
      "source": "albums = pd.read_sql_query(\"SELECT * FROM albums JOIN artists ON (albums.ArtistId = artists.ArtistId);\", c)\nalbums",
      "metadata": {
        "trusted": true,
        "vscode": {
          "languageId": "sql"
        }
      },
      "outputs": [
        {
          "execution_count": 7,
          "output_type": "execute_result",
          "data": {
            "text/plain": "     AlbumId                                              Title  ArtistId  \\\n0          1              For Those About To Rock We Salute You         1   \n1          2                                  Balls to the Wall         2   \n2          3                                  Restless and Wild         2   \n3          4                                  Let There Be Rock         1   \n4          5                                           Big Ones         3   \n..       ...                                                ...       ...   \n342      343                             Respighi:Pines of Rome       226   \n343      344  Schubert: The Late String Quartets & String Qu...       272   \n344      345                                Monteverdi: L'Orfeo       273   \n345      346                              Mozart: Chamber Music       274   \n346      347  Koyaanisqatsi (Soundtrack from the Motion Pict...       275   \n\n     ArtistId                                               Name  \n0           1                                              AC/DC  \n1           2                                             Accept  \n2           2                                             Accept  \n3           1                                              AC/DC  \n4           3                                          Aerosmith  \n..        ...                                                ...  \n342       226                                     Eugene Ormandy  \n343       272                             Emerson String Quartet  \n344       273  C. Monteverdi, Nigel Rogers - Chiaroscuro; Lon...  \n345       274                                      Nash Ensemble  \n346       275                              Philip Glass Ensemble  \n\n[347 rows x 5 columns]",
            "text/html": "<div>\n<style scoped>\n    .dataframe tbody tr th:only-of-type {\n        vertical-align: middle;\n    }\n\n    .dataframe tbody tr th {\n        vertical-align: top;\n    }\n\n    .dataframe thead th {\n        text-align: right;\n    }\n</style>\n<table border=\"1\" class=\"dataframe\">\n  <thead>\n    <tr style=\"text-align: right;\">\n      <th></th>\n      <th>AlbumId</th>\n      <th>Title</th>\n      <th>ArtistId</th>\n      <th>ArtistId</th>\n      <th>Name</th>\n    </tr>\n  </thead>\n  <tbody>\n    <tr>\n      <th>0</th>\n      <td>1</td>\n      <td>For Those About To Rock We Salute You</td>\n      <td>1</td>\n      <td>1</td>\n      <td>AC/DC</td>\n    </tr>\n    <tr>\n      <th>1</th>\n      <td>2</td>\n      <td>Balls to the Wall</td>\n      <td>2</td>\n      <td>2</td>\n      <td>Accept</td>\n    </tr>\n    <tr>\n      <th>2</th>\n      <td>3</td>\n      <td>Restless and Wild</td>\n      <td>2</td>\n      <td>2</td>\n      <td>Accept</td>\n    </tr>\n    <tr>\n      <th>3</th>\n      <td>4</td>\n      <td>Let There Be Rock</td>\n      <td>1</td>\n      <td>1</td>\n      <td>AC/DC</td>\n    </tr>\n    <tr>\n      <th>4</th>\n      <td>5</td>\n      <td>Big Ones</td>\n      <td>3</td>\n      <td>3</td>\n      <td>Aerosmith</td>\n    </tr>\n    <tr>\n      <th>...</th>\n      <td>...</td>\n      <td>...</td>\n      <td>...</td>\n      <td>...</td>\n      <td>...</td>\n    </tr>\n    <tr>\n      <th>342</th>\n      <td>343</td>\n      <td>Respighi:Pines of Rome</td>\n      <td>226</td>\n      <td>226</td>\n      <td>Eugene Ormandy</td>\n    </tr>\n    <tr>\n      <th>343</th>\n      <td>344</td>\n      <td>Schubert: The Late String Quartets &amp; String Qu...</td>\n      <td>272</td>\n      <td>272</td>\n      <td>Emerson String Quartet</td>\n    </tr>\n    <tr>\n      <th>344</th>\n      <td>345</td>\n      <td>Monteverdi: L'Orfeo</td>\n      <td>273</td>\n      <td>273</td>\n      <td>C. Monteverdi, Nigel Rogers - Chiaroscuro; Lon...</td>\n    </tr>\n    <tr>\n      <th>345</th>\n      <td>346</td>\n      <td>Mozart: Chamber Music</td>\n      <td>274</td>\n      <td>274</td>\n      <td>Nash Ensemble</td>\n    </tr>\n    <tr>\n      <th>346</th>\n      <td>347</td>\n      <td>Koyaanisqatsi (Soundtrack from the Motion Pict...</td>\n      <td>275</td>\n      <td>275</td>\n      <td>Philip Glass Ensemble</td>\n    </tr>\n  </tbody>\n</table>\n<p>347 rows × 5 columns</p>\n</div>"
          },
          "metadata": {}
        }
      ],
      "execution_count": 7
    },
    {
      "cell_type": "markdown",
      "source": "Notice how Pandas (pd) is summarizing the data",
      "metadata": {
        "nteract": {
          "transient": {
            "deleting": false
          }
        }
      }
    },
    {
      "cell_type": "markdown",
      "source": "## Tracks by an Artist",
      "metadata": {
        "nteract": {
          "transient": {
            "deleting": false
          }
        },
        "tags": [],
        "editable": true,
        "slideshow": {
          "slide_type": "slide"
        }
      }
    },
    {
      "cell_type": "code",
      "source": "tracks = pd.read_sql_query(\"SELECT * FROM tracks JOIN albums ON (tracks.AlbumId = albums.AlbumId) JOIN artists ON (albums.ArtistId = artists.ArtistId) WHERE artists.Name ='AC/DC';\", c)\ntracks",
      "metadata": {
        "collapsed": false,
        "jupyter": {
          "outputs_hidden": false,
          "source_hidden": false
        },
        "nteract": {
          "transient": {
            "deleting": false
          }
        },
        "trusted": true,
        "tags": [],
        "editable": true,
        "slideshow": {
          "slide_type": ""
        }
      },
      "outputs": [
        {
          "execution_count": 8,
          "output_type": "execute_result",
          "data": {
            "text/plain": "    TrackId                                     Name  AlbumId  MediaTypeId  \\\n0         1  For Those About To Rock (We Salute You)        1            1   \n1         6                    Put The Finger On You        1            1   \n2         7                          Let's Get It Up        1            1   \n3         8                         Inject The Venom        1            1   \n4         9                               Snowballed        1            1   \n5        10                               Evil Walks        1            1   \n6        11                                   C.O.D.        1            1   \n7        12                       Breaking The Rules        1            1   \n8        13                 Night Of The Long Knives        1            1   \n9        14                               Spellbound        1            1   \n10       15                                  Go Down        4            1   \n11       16                              Dog Eat Dog        4            1   \n12       17                        Let There Be Rock        4            1   \n13       18                           Bad Boy Boogie        4            1   \n14       19                            Problem Child        4            1   \n15       20                                 Overdose        4            1   \n16       21             Hell Ain't A Bad Place To Be        4            1   \n17       22                        Whole Lotta Rosie        4            1   \n\n    GenreId                                   Composer  Milliseconds  \\\n0         1  Angus Young, Malcolm Young, Brian Johnson        343719   \n1         1  Angus Young, Malcolm Young, Brian Johnson        205662   \n2         1  Angus Young, Malcolm Young, Brian Johnson        233926   \n3         1  Angus Young, Malcolm Young, Brian Johnson        210834   \n4         1  Angus Young, Malcolm Young, Brian Johnson        203102   \n5         1  Angus Young, Malcolm Young, Brian Johnson        263497   \n6         1  Angus Young, Malcolm Young, Brian Johnson        199836   \n7         1  Angus Young, Malcolm Young, Brian Johnson        263288   \n8         1  Angus Young, Malcolm Young, Brian Johnson        205688   \n9         1  Angus Young, Malcolm Young, Brian Johnson        270863   \n10        1                                      AC/DC        331180   \n11        1                                      AC/DC        215196   \n12        1                                      AC/DC        366654   \n13        1                                      AC/DC        267728   \n14        1                                      AC/DC        325041   \n15        1                                      AC/DC        369319   \n16        1                                      AC/DC        254380   \n17        1                                      AC/DC        323761   \n\n       Bytes  UnitPrice  AlbumId                                  Title  \\\n0   11170334       0.99        1  For Those About To Rock We Salute You   \n1    6713451       0.99        1  For Those About To Rock We Salute You   \n2    7636561       0.99        1  For Those About To Rock We Salute You   \n3    6852860       0.99        1  For Those About To Rock We Salute You   \n4    6599424       0.99        1  For Those About To Rock We Salute You   \n5    8611245       0.99        1  For Those About To Rock We Salute You   \n6    6566314       0.99        1  For Those About To Rock We Salute You   \n7    8596840       0.99        1  For Those About To Rock We Salute You   \n8    6706347       0.99        1  For Those About To Rock We Salute You   \n9    8817038       0.99        1  For Those About To Rock We Salute You   \n10  10847611       0.99        4                      Let There Be Rock   \n11   7032162       0.99        4                      Let There Be Rock   \n12  12021261       0.99        4                      Let There Be Rock   \n13   8776140       0.99        4                      Let There Be Rock   \n14  10617116       0.99        4                      Let There Be Rock   \n15  12066294       0.99        4                      Let There Be Rock   \n16   8331286       0.99        4                      Let There Be Rock   \n17  10547154       0.99        4                      Let There Be Rock   \n\n    ArtistId  ArtistId   Name  \n0          1         1  AC/DC  \n1          1         1  AC/DC  \n2          1         1  AC/DC  \n3          1         1  AC/DC  \n4          1         1  AC/DC  \n5          1         1  AC/DC  \n6          1         1  AC/DC  \n7          1         1  AC/DC  \n8          1         1  AC/DC  \n9          1         1  AC/DC  \n10         1         1  AC/DC  \n11         1         1  AC/DC  \n12         1         1  AC/DC  \n13         1         1  AC/DC  \n14         1         1  AC/DC  \n15         1         1  AC/DC  \n16         1         1  AC/DC  \n17         1         1  AC/DC  ",
            "text/html": "<div>\n<style scoped>\n    .dataframe tbody tr th:only-of-type {\n        vertical-align: middle;\n    }\n\n    .dataframe tbody tr th {\n        vertical-align: top;\n    }\n\n    .dataframe thead th {\n        text-align: right;\n    }\n</style>\n<table border=\"1\" class=\"dataframe\">\n  <thead>\n    <tr style=\"text-align: right;\">\n      <th></th>\n      <th>TrackId</th>\n      <th>Name</th>\n      <th>AlbumId</th>\n      <th>MediaTypeId</th>\n      <th>GenreId</th>\n      <th>Composer</th>\n      <th>Milliseconds</th>\n      <th>Bytes</th>\n      <th>UnitPrice</th>\n      <th>AlbumId</th>\n      <th>Title</th>\n      <th>ArtistId</th>\n      <th>ArtistId</th>\n      <th>Name</th>\n    </tr>\n  </thead>\n  <tbody>\n    <tr>\n      <th>0</th>\n      <td>1</td>\n      <td>For Those About To Rock (We Salute You)</td>\n      <td>1</td>\n      <td>1</td>\n      <td>1</td>\n      <td>Angus Young, Malcolm Young, Brian Johnson</td>\n      <td>343719</td>\n      <td>11170334</td>\n      <td>0.99</td>\n      <td>1</td>\n      <td>For Those About To Rock We Salute You</td>\n      <td>1</td>\n      <td>1</td>\n      <td>AC/DC</td>\n    </tr>\n    <tr>\n      <th>1</th>\n      <td>6</td>\n      <td>Put The Finger On You</td>\n      <td>1</td>\n      <td>1</td>\n      <td>1</td>\n      <td>Angus Young, Malcolm Young, Brian Johnson</td>\n      <td>205662</td>\n      <td>6713451</td>\n      <td>0.99</td>\n      <td>1</td>\n      <td>For Those About To Rock We Salute You</td>\n      <td>1</td>\n      <td>1</td>\n      <td>AC/DC</td>\n    </tr>\n    <tr>\n      <th>2</th>\n      <td>7</td>\n      <td>Let's Get It Up</td>\n      <td>1</td>\n      <td>1</td>\n      <td>1</td>\n      <td>Angus Young, Malcolm Young, Brian Johnson</td>\n      <td>233926</td>\n      <td>7636561</td>\n      <td>0.99</td>\n      <td>1</td>\n      <td>For Those About To Rock We Salute You</td>\n      <td>1</td>\n      <td>1</td>\n      <td>AC/DC</td>\n    </tr>\n    <tr>\n      <th>3</th>\n      <td>8</td>\n      <td>Inject The Venom</td>\n      <td>1</td>\n      <td>1</td>\n      <td>1</td>\n      <td>Angus Young, Malcolm Young, Brian Johnson</td>\n      <td>210834</td>\n      <td>6852860</td>\n      <td>0.99</td>\n      <td>1</td>\n      <td>For Those About To Rock We Salute You</td>\n      <td>1</td>\n      <td>1</td>\n      <td>AC/DC</td>\n    </tr>\n    <tr>\n      <th>4</th>\n      <td>9</td>\n      <td>Snowballed</td>\n      <td>1</td>\n      <td>1</td>\n      <td>1</td>\n      <td>Angus Young, Malcolm Young, Brian Johnson</td>\n      <td>203102</td>\n      <td>6599424</td>\n      <td>0.99</td>\n      <td>1</td>\n      <td>For Those About To Rock We Salute You</td>\n      <td>1</td>\n      <td>1</td>\n      <td>AC/DC</td>\n    </tr>\n    <tr>\n      <th>5</th>\n      <td>10</td>\n      <td>Evil Walks</td>\n      <td>1</td>\n      <td>1</td>\n      <td>1</td>\n      <td>Angus Young, Malcolm Young, Brian Johnson</td>\n      <td>263497</td>\n      <td>8611245</td>\n      <td>0.99</td>\n      <td>1</td>\n      <td>For Those About To Rock We Salute You</td>\n      <td>1</td>\n      <td>1</td>\n      <td>AC/DC</td>\n    </tr>\n    <tr>\n      <th>6</th>\n      <td>11</td>\n      <td>C.O.D.</td>\n      <td>1</td>\n      <td>1</td>\n      <td>1</td>\n      <td>Angus Young, Malcolm Young, Brian Johnson</td>\n      <td>199836</td>\n      <td>6566314</td>\n      <td>0.99</td>\n      <td>1</td>\n      <td>For Those About To Rock We Salute You</td>\n      <td>1</td>\n      <td>1</td>\n      <td>AC/DC</td>\n    </tr>\n    <tr>\n      <th>7</th>\n      <td>12</td>\n      <td>Breaking The Rules</td>\n      <td>1</td>\n      <td>1</td>\n      <td>1</td>\n      <td>Angus Young, Malcolm Young, Brian Johnson</td>\n      <td>263288</td>\n      <td>8596840</td>\n      <td>0.99</td>\n      <td>1</td>\n      <td>For Those About To Rock We Salute You</td>\n      <td>1</td>\n      <td>1</td>\n      <td>AC/DC</td>\n    </tr>\n    <tr>\n      <th>8</th>\n      <td>13</td>\n      <td>Night Of The Long Knives</td>\n      <td>1</td>\n      <td>1</td>\n      <td>1</td>\n      <td>Angus Young, Malcolm Young, Brian Johnson</td>\n      <td>205688</td>\n      <td>6706347</td>\n      <td>0.99</td>\n      <td>1</td>\n      <td>For Those About To Rock We Salute You</td>\n      <td>1</td>\n      <td>1</td>\n      <td>AC/DC</td>\n    </tr>\n    <tr>\n      <th>9</th>\n      <td>14</td>\n      <td>Spellbound</td>\n      <td>1</td>\n      <td>1</td>\n      <td>1</td>\n      <td>Angus Young, Malcolm Young, Brian Johnson</td>\n      <td>270863</td>\n      <td>8817038</td>\n      <td>0.99</td>\n      <td>1</td>\n      <td>For Those About To Rock We Salute You</td>\n      <td>1</td>\n      <td>1</td>\n      <td>AC/DC</td>\n    </tr>\n    <tr>\n      <th>10</th>\n      <td>15</td>\n      <td>Go Down</td>\n      <td>4</td>\n      <td>1</td>\n      <td>1</td>\n      <td>AC/DC</td>\n      <td>331180</td>\n      <td>10847611</td>\n      <td>0.99</td>\n      <td>4</td>\n      <td>Let There Be Rock</td>\n      <td>1</td>\n      <td>1</td>\n      <td>AC/DC</td>\n    </tr>\n    <tr>\n      <th>11</th>\n      <td>16</td>\n      <td>Dog Eat Dog</td>\n      <td>4</td>\n      <td>1</td>\n      <td>1</td>\n      <td>AC/DC</td>\n      <td>215196</td>\n      <td>7032162</td>\n      <td>0.99</td>\n      <td>4</td>\n      <td>Let There Be Rock</td>\n      <td>1</td>\n      <td>1</td>\n      <td>AC/DC</td>\n    </tr>\n    <tr>\n      <th>12</th>\n      <td>17</td>\n      <td>Let There Be Rock</td>\n      <td>4</td>\n      <td>1</td>\n      <td>1</td>\n      <td>AC/DC</td>\n      <td>366654</td>\n      <td>12021261</td>\n      <td>0.99</td>\n      <td>4</td>\n      <td>Let There Be Rock</td>\n      <td>1</td>\n      <td>1</td>\n      <td>AC/DC</td>\n    </tr>\n    <tr>\n      <th>13</th>\n      <td>18</td>\n      <td>Bad Boy Boogie</td>\n      <td>4</td>\n      <td>1</td>\n      <td>1</td>\n      <td>AC/DC</td>\n      <td>267728</td>\n      <td>8776140</td>\n      <td>0.99</td>\n      <td>4</td>\n      <td>Let There Be Rock</td>\n      <td>1</td>\n      <td>1</td>\n      <td>AC/DC</td>\n    </tr>\n    <tr>\n      <th>14</th>\n      <td>19</td>\n      <td>Problem Child</td>\n      <td>4</td>\n      <td>1</td>\n      <td>1</td>\n      <td>AC/DC</td>\n      <td>325041</td>\n      <td>10617116</td>\n      <td>0.99</td>\n      <td>4</td>\n      <td>Let There Be Rock</td>\n      <td>1</td>\n      <td>1</td>\n      <td>AC/DC</td>\n    </tr>\n    <tr>\n      <th>15</th>\n      <td>20</td>\n      <td>Overdose</td>\n      <td>4</td>\n      <td>1</td>\n      <td>1</td>\n      <td>AC/DC</td>\n      <td>369319</td>\n      <td>12066294</td>\n      <td>0.99</td>\n      <td>4</td>\n      <td>Let There Be Rock</td>\n      <td>1</td>\n      <td>1</td>\n      <td>AC/DC</td>\n    </tr>\n    <tr>\n      <th>16</th>\n      <td>21</td>\n      <td>Hell Ain't A Bad Place To Be</td>\n      <td>4</td>\n      <td>1</td>\n      <td>1</td>\n      <td>AC/DC</td>\n      <td>254380</td>\n      <td>8331286</td>\n      <td>0.99</td>\n      <td>4</td>\n      <td>Let There Be Rock</td>\n      <td>1</td>\n      <td>1</td>\n      <td>AC/DC</td>\n    </tr>\n    <tr>\n      <th>17</th>\n      <td>22</td>\n      <td>Whole Lotta Rosie</td>\n      <td>4</td>\n      <td>1</td>\n      <td>1</td>\n      <td>AC/DC</td>\n      <td>323761</td>\n      <td>10547154</td>\n      <td>0.99</td>\n      <td>4</td>\n      <td>Let There Be Rock</td>\n      <td>1</td>\n      <td>1</td>\n      <td>AC/DC</td>\n    </tr>\n  </tbody>\n</table>\n</div>"
          },
          "metadata": {}
        }
      ],
      "execution_count": 8
    },
    {
      "cell_type": "code",
      "source": "",
      "metadata": {
        "jupyter": {
          "outputs_hidden": false,
          "source_hidden": false
        },
        "nteract": {
          "transient": {
            "deleting": false
          }
        },
        "collapsed": false,
        "tags": [],
        "editable": true,
        "slideshow": {
          "slide_type": ""
        },
        "trusted": true
      },
      "outputs": [],
      "execution_count": null
    },
    {
      "cell_type": "markdown",
      "source": "## Task : Tracks by another artist\n\nPick another artist from the list below and use SQL to list tracks",
      "metadata": {
        "nteract": {
          "transient": {
            "deleting": false
          }
        },
        "tags": [],
        "editable": true,
        "slideshow": {
          "slide_type": "slide"
        }
      }
    },
    {
      "cell_type": "code",
      "source": "artists = pd.read_sql_query(\"SELECT Name FROM artists;\", c)\nprint(artists['Name'].to_list())",
      "metadata": {
        "jupyter": {
          "outputs_hidden": false,
          "source_hidden": false
        },
        "nteract": {
          "transient": {
            "deleting": false
          }
        },
        "collapsed": false,
        "tags": [],
        "editable": true,
        "slideshow": {
          "slide_type": ""
        },
        "trusted": true
      },
      "outputs": [
        {
          "name": "stdout",
          "text": "['AC/DC', 'Accept', 'Aerosmith', 'Alanis Morissette', 'Alice In Chains', 'Antônio Carlos Jobim', 'Apocalyptica', 'Audioslave', 'BackBeat', 'Billy Cobham', 'Black Label Society', 'Black Sabbath', 'Body Count', 'Bruce Dickinson', 'Buddy Guy', 'Caetano Veloso', 'Chico Buarque', 'Chico Science & Nação Zumbi', 'Cidade Negra', 'Cláudio Zoli', 'Various Artists', 'Led Zeppelin', 'Frank Zappa & Captain Beefheart', 'Marcos Valle', 'Milton Nascimento & Bebeto', 'Azymuth', 'Gilberto Gil', 'João Gilberto', 'Bebel Gilberto', 'Jorge Vercilo', 'Baby Consuelo', 'Ney Matogrosso', 'Luiz Melodia', 'Nando Reis', 'Pedro Luís & A Parede', 'O Rappa', 'Ed Motta', 'Banda Black Rio', 'Fernanda Porto', 'Os Cariocas', 'Elis Regina', 'Milton Nascimento', 'A Cor Do Som', 'Kid Abelha', 'Sandra De Sá', 'Jorge Ben', 'Hermeto Pascoal', 'Barão Vermelho', 'Edson, DJ Marky & DJ Patife Featuring Fernanda Porto', 'Metallica', 'Queen', 'Kiss', 'Spyro Gyra', 'Green Day', 'David Coverdale', 'Gonzaguinha', 'Os Mutantes', 'Deep Purple', 'Santana', 'Santana Feat. Dave Matthews', 'Santana Feat. Everlast', 'Santana Feat. Rob Thomas', 'Santana Feat. Lauryn Hill & Cee-Lo', 'Santana Feat. The Project G&B', 'Santana Feat. Maná', 'Santana Feat. Eagle-Eye Cherry', 'Santana Feat. Eric Clapton', 'Miles Davis', 'Gene Krupa', 'Toquinho & Vinícius', 'Vinícius De Moraes & Baden Powell', 'Vinícius De Moraes', 'Vinícius E Qurteto Em Cy', 'Vinícius E Odette Lara', 'Vinicius, Toquinho & Quarteto Em Cy', 'Creedence Clearwater Revival', 'Cássia Eller', 'Def Leppard', 'Dennis Chambers', 'Djavan', 'Eric Clapton', 'Faith No More', 'Falamansa', 'Foo Fighters', 'Frank Sinatra', 'Funk Como Le Gusta', 'Godsmack', \"Guns N' Roses\", 'Incognito', 'Iron Maiden', 'James Brown', 'Jamiroquai', 'JET', 'Jimi Hendrix', 'Joe Satriani', 'Jota Quest', 'João Suplicy', 'Judas Priest', 'Legião Urbana', 'Lenny Kravitz', 'Lulu Santos', 'Marillion', 'Marisa Monte', 'Marvin Gaye', 'Men At Work', 'Motörhead', 'Motörhead & Girlschool', 'Mônica Marianno', 'Mötley Crüe', 'Nirvana', 'O Terço', 'Olodum', 'Os Paralamas Do Sucesso', 'Ozzy Osbourne', 'Page & Plant', 'Passengers', \"Paul D'Ianno\", 'Pearl Jam', 'Peter Tosh', 'Pink Floyd', 'Planet Hemp', 'R.E.M. Feat. Kate Pearson', 'R.E.M. Feat. KRS-One', 'R.E.M.', 'Raimundos', 'Raul Seixas', 'Red Hot Chili Peppers', 'Rush', 'Simply Red', 'Skank', 'Smashing Pumpkins', 'Soundgarden', 'Stevie Ray Vaughan & Double Trouble', 'Stone Temple Pilots', 'System Of A Down', 'Terry Bozzio, Tony Levin & Steve Stevens', 'The Black Crowes', 'The Clash', 'The Cult', 'The Doors', 'The Police', 'The Rolling Stones', 'The Tea Party', 'The Who', 'Tim Maia', 'Titãs', 'Battlestar Galactica', 'Heroes', 'Lost', 'U2', 'UB40', 'Van Halen', 'Velvet Revolver', 'Whitesnake', 'Zeca Pagodinho', 'The Office', 'Dread Zeppelin', 'Battlestar Galactica (Classic)', 'Aquaman', 'Christina Aguilera featuring BigElf', \"Aerosmith & Sierra Leone's Refugee Allstars\", 'Los Lonely Boys', 'Corinne Bailey Rae', 'Dhani Harrison & Jakob Dylan', 'Jackson Browne', 'Avril Lavigne', 'Big & Rich', \"Youssou N'Dour\", 'Black Eyed Peas', 'Jack Johnson', 'Ben Harper', 'Snow Patrol', 'Matisyahu', 'The Postal Service', 'Jaguares', 'The Flaming Lips', \"Jack's Mannequin & Mick Fleetwood\", 'Regina Spektor', 'Scorpions', 'House Of Pain', 'Xis', 'Nega Gizza', 'Gustavo & Andres Veiga & Salazar', 'Rodox', 'Charlie Brown Jr.', 'Pedro Luís E A Parede', 'Los Hermanos', 'Mundo Livre S/A', 'Otto', 'Instituto', 'Nação Zumbi', 'DJ Dolores & Orchestra Santa Massa', 'Seu Jorge', 'Sabotage E Instituto', 'Stereo Maracana', 'Cake', 'Aisha Duo', 'Habib Koité and Bamada', 'Karsh Kale', 'The Posies', 'Luciana Souza/Romero Lubambo', 'Aaron Goldberg', 'Nicolaus Esterhazy Sinfonia', 'Temple of the Dog', 'Chris Cornell', 'Alberto Turco & Nova Schola Gregoriana', 'Richard Marlow & The Choir of Trinity College, Cambridge', 'English Concert & Trevor Pinnock', 'Anne-Sophie Mutter, Herbert Von Karajan & Wiener Philharmoniker', 'Hilary Hahn, Jeffrey Kahane, Los Angeles Chamber Orchestra & Margaret Batjer', 'Wilhelm Kempff', 'Yo-Yo Ma', 'Scholars Baroque Ensemble', 'Academy of St. Martin in the Fields & Sir Neville Marriner', 'Academy of St. Martin in the Fields Chamber Ensemble & Sir Neville Marriner', 'Berliner Philharmoniker, Claudio Abbado & Sabine Meyer', 'Royal Philharmonic Orchestra & Sir Thomas Beecham', 'Orchestre Révolutionnaire et Romantique & John Eliot Gardiner', 'Britten Sinfonia, Ivor Bolton & Lesley Garrett', 'Chicago Symphony Chorus, Chicago Symphony Orchestra & Sir Georg Solti', 'Sir Georg Solti & Wiener Philharmoniker', 'Academy of St. Martin in the Fields, John Birch, Sir Neville Marriner & Sylvia McNair', 'London Symphony Orchestra & Sir Charles Mackerras', 'Barry Wordsworth & BBC Concert Orchestra', 'Herbert Von Karajan, Mirella Freni & Wiener Philharmoniker', 'Eugene Ormandy', 'Luciano Pavarotti', 'Leonard Bernstein & New York Philharmonic', 'Boston Symphony Orchestra & Seiji Ozawa', 'Aaron Copland & London Symphony Orchestra', 'Ton Koopman', 'Sergei Prokofiev & Yuri Temirkanov', 'Chicago Symphony Orchestra & Fritz Reiner', 'Orchestra of The Age of Enlightenment', 'Emanuel Ax, Eugene Ormandy & Philadelphia Orchestra', 'James Levine', 'Berliner Philharmoniker & Hans Rosbaud', 'Maurizio Pollini', 'Academy of St. Martin in the Fields, Sir Neville Marriner & William Bennett', 'Gustav Mahler', 'Felix Schmidt, London Symphony Orchestra & Rafael Frühbeck de Burgos', 'Edo de Waart & San Francisco Symphony', 'Antal Doráti & London Symphony Orchestra', 'Choir Of Westminster Abbey & Simon Preston', 'Michael Tilson Thomas & San Francisco Symphony', 'Chor der Wiener Staatsoper, Herbert Von Karajan & Wiener Philharmoniker', \"The King's Singers\", 'Berliner Philharmoniker & Herbert Von Karajan', 'Sir Georg Solti, Sumi Jo & Wiener Philharmoniker', \"Christopher O'Riley\", 'Fretwork', 'Amy Winehouse', 'Calexico', 'Otto Klemperer & Philharmonia Orchestra', 'Yehudi Menuhin', 'Philharmonia Orchestra & Sir Neville Marriner', 'Academy of St. Martin in the Fields, Sir Neville Marriner & Thurston Dart', 'Les Arts Florissants & William Christie', 'The 12 Cellists of The Berlin Philharmonic', 'Adrian Leaper & Doreen de Feis', 'Roger Norrington, London Classical Players', \"Charles Dutoit & L'Orchestre Symphonique de Montréal\", 'Equale Brass Ensemble, John Eliot Gardiner & Munich Monteverdi Orchestra and Choir', \"Kent Nagano and Orchestre de l'Opéra de Lyon\", 'Julian Bream', 'Martin Roscoe', 'Göteborgs Symfoniker & Neeme Järvi', 'Itzhak Perlman', 'Michele Campanella', 'Gerald Moore', 'Mela Tenenbaum, Pro Musica Prague & Richard Kapp', 'Emerson String Quartet', 'C. Monteverdi, Nigel Rogers - Chiaroscuro; London Baroque; London Cornett & Sackbu', 'Nash Ensemble', 'Philip Glass Ensemble']\n",
          "output_type": "stream"
        }
      ],
      "execution_count": 9
    },
    {
      "cell_type": "code",
      "source": "tracks = pd.read_sql_query(\"SELECT * FROM tracks JOIN albums ON (tracks.AlbumId = albums.AlbumId) JOIN artists ON (albums.ArtistId = artists.ArtistId) WHERE artists.Name ='AC/DC';\", c)\ntracks",
      "metadata": {
        "jupyter": {
          "outputs_hidden": false,
          "source_hidden": false
        },
        "nteract": {
          "transient": {
            "deleting": false
          }
        },
        "collapsed": false,
        "tags": [],
        "editable": true,
        "slideshow": {
          "slide_type": ""
        },
        "trusted": true
      },
      "outputs": [],
      "execution_count": null
    },
    {
      "cell_type": "code",
      "source": "",
      "metadata": {
        "jupyter": {
          "outputs_hidden": false,
          "source_hidden": false
        },
        "nteract": {
          "transient": {
            "deleting": false
          }
        },
        "collapsed": false,
        "tags": [],
        "editable": true,
        "slideshow": {
          "slide_type": ""
        },
        "trusted": true
      },
      "outputs": [],
      "execution_count": null
    },
    {
      "cell_type": "markdown",
      "source": "### Save and close this file",
      "metadata": {
        "nteract": {
          "transient": {
            "deleting": false
          }
        },
        "tags": [],
        "editable": true,
        "slideshow": {
          "slide_type": "slide"
        }
      }
    },
    {
      "cell_type": "code",
      "source": "",
      "metadata": {
        "jupyter": {
          "outputs_hidden": false,
          "source_hidden": false
        },
        "nteract": {
          "transient": {
            "deleting": false
          }
        },
        "collapsed": false,
        "trusted": true
      },
      "outputs": [],
      "execution_count": null
    }
  ]
}