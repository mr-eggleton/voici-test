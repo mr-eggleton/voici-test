{
  "metadata": {
    "kernelspec": {
      "name": "python",
      "display_name": "Python (Pyodide)",
      "language": "python"
    },
    "language_info": {
      "codemirror_mode": {
        "name": "python",
        "version": 3
      },
      "file_extension": ".py",
      "mimetype": "text/x-python",
      "name": "python",
      "nbconvert_exporter": "python",
      "pygments_lexer": "ipython3",
      "version": "3.8"
    },
    "kernel_info": {
      "name": "python"
    },
    "nteract": {
      "version": "nteract-front-end@1.0.0"
    }
  },
  "nbformat_minor": 4,
  "nbformat": 4,
  "cells": [
    {
      "cell_type": "markdown",
      "source": "# Unstructured & Quantitative example:\n## How many right footed goals were scored in a Football match?\n\n[Women's Euros 2022 - England vs Norway](https://www.youtube.com/watch?v=EAdTGBRSCEQ)\n\n### Task 1 : \n1. Start the timer by hitting \"Run all\"\n2. Watch the highlights (not the whole match) [Women's Euros 2022 - England vs Norway](https://www.youtube.com/watch?v=EAdTGBRSCEQ)\n3. Note down the body part used to score each goal\n4. Input \"Number of 'Right Footed Goals'\" below then click \"Submit Query\" / press \"Enter\"\n5. That stops the timer",
      "metadata": {
        "tags": [],
        "editable": true,
        "slideshow": {
          "slide_type": ""
        }
      }
    },
    {
      "cell_type": "code",
      "source": "import time\n\n# Start the timer\ntask_1_start_time = time.time()\n\n# Get an input : How many Right Footed Goals were scored?\nright_footed_goals = await input(\"Number of 'Right Footed Goals'\")",
      "metadata": {
        "trusted": true
      },
      "outputs": [],
      "execution_count": null
    },
    {
      "cell_type": "code",
      "source": "",
      "metadata": {
        "trusted": true
      },
      "outputs": [],
      "execution_count": null
    },
    {
      "cell_type": "markdown",
      "source": "## How long did that take?",
      "metadata": {
        "tags": [],
        "editable": true,
        "slideshow": {
          "slide_type": "slide"
        }
      }
    },
    {
      "cell_type": "code",
      "source": "time_taken_in_seconds = time.time() - task_1_start_time \nclips_length_in_seconds = 97\nmatch_length_in_seconds = 95.0 * 60\n\nprint(\"Right Footed Goals in the Norway game\", right_footed_goals)\nprint(\"Time Taken In Seconds\", int(time_taken_in_seconds))\nprint(\"It would take at least \", int(((time_taken_in_seconds / clips_length_in_seconds ) * match_length_in_seconds) / 60), \" minutes to do this for the whole match\")",
      "metadata": {
        "jupyter": {
          "source_hidden": false,
          "outputs_hidden": false
        },
        "nteract": {
          "transient": {
            "deleting": false
          }
        },
        "collapsed": false,
        "trusted": true,
        "tags": [],
        "editable": true,
        "slideshow": {
          "slide_type": ""
        }
      },
      "outputs": [],
      "execution_count": null
    },
    {
      "cell_type": "code",
      "source": "",
      "metadata": {
        "trusted": true
      },
      "outputs": [],
      "execution_count": null
    },
    {
      "cell_type": "markdown",
      "source": "## What is Time?",
      "metadata": {
        "tags": [],
        "editable": true,
        "slideshow": {
          "slide_type": "slide"
        }
      }
    },
    {
      "cell_type": "markdown",
      "source": "### Money\n\nThis data is from [StatsBomb](https://statsbomb.com/), a commercial company that sells data ( this is a free sam0le to get people interested ).",
      "metadata": {
        "tags": [],
        "editable": true,
        "slideshow": {
          "slide_type": "fragment"
        }
      }
    },
    {
      "cell_type": "markdown",
      "source": "## Getting the Machine to do the work\n\nA company called StatsBomb have put in the time to look at all these matches and record a vast amount of structured data about it.\n\nhttps://statsbomb.com/articles/soccer/statsbomb-release-free-360-data-womens-euro-2022-available-now/\n\nNB. Due to running this inside teams this next block is large and wouldn't usually be needed.\n",
      "metadata": {
        "nteract": {
          "transient": {
            "deleting": false
          }
        },
        "tags": [],
        "editable": true,
        "slideshow": {
          "slide_type": "slide"
        }
      }
    },
    {
      "cell_type": "code",
      "source": "import micropip\nawait micropip.install('requests')\nfrom js import fetch\n\nfrom collections import defaultdict\nimport requests as req\nfrom typing import Union\nimport pandas as pd\nimport json\n\nEURO22MATCHES = {\n 'Austria vs Northern Ireland': 3835328,\n 'Austria vs Norway': 3835336,\n 'Belgium vs Iceland': 3835326,\n 'Denmark vs Finland': 3835329,\n 'Denmark vs Spain': 3835337,\n 'England vs Austria': 3835319,\n 'England vs Germany': 3847567,\n 'England vs Norway': 3835327,\n 'England vs Spain': 3844384,\n 'England vs Sweden': 3845506,\n 'Finland vs Germany': 3835338,\n 'France vs Belgium': 3835333,\n 'France vs Italy': 3835325,\n 'France vs Netherlands': 3844387,\n 'Germany vs Austria': 3844385,\n 'Germany vs Denmark': 3835322,\n 'Germany vs France': 3845507,\n 'Germany vs Spain': 3835330,\n 'Iceland vs France': 3835342,\n 'Italy vs Belgium': 3835341,\n 'Italy vs Iceland': 3835334,\n 'Netherlands vs Portugal': 3835332,\n 'Netherlands vs Sweden': 3835324,\n 'Northern Ireland vs England': 3835335,\n 'Norway vs Northern Ireland': 3835320,\n 'Portugal vs Switzerland': 3835323,\n 'Spain vs Finland': 3835321,\n 'Sweden vs Belgium': 3844386,\n 'Sweden vs Portugal': 3835340,\n 'Sweden vs Switzerland': 3835331,\n 'Switzerland vs Netherlands': 3835339}\n\nPLURALS = {\n    \"Starting XI\": \"starting_xis\",\n    \"Half Start\": \"half_starts\",\n    \"Camera On\": \"camera ons\",\n    \"Camera off\": \"camera offs\",\n    \"Pass\": \"passes\",\n    \"Ball Receipt*\": \"ball_receipts\",\n    \"Carry\": \"carrys\",\n    \"Pressure\": \"pressures\",\n    \"Foul Committed\": \"foul_committeds\",\n    \"Foul Won\": \"foul_wons\",\n    \"Duel\": \"duels\",\n    \"Interception\": \"interceptions\",\n    \"Block\": \"blocks\",\n    \"Referee Ball-Drop\": \"referee_ball_drops\",\n    \"Ball Recovery\": \"ball_recoverys\",\n    \"Dispossessed\": \"dispossesseds\",\n    \"Clearance\": \"clearances\",\n    \"Dribble\": \"dribbles\",\n    \"Miscontrol\": \"miscontrols\",\n    \"Shot\": \"shots\",\n    \"Goal Keeper\": \"goal_keepers\",\n    \"Dribbled Past\": \"dribbled_pasts\",\n    \"Injury Stoppage\": \"injury_stoppages\",\n    \"Half End\": \"half_ends\",\n    \"Substitution\": \"substitutions\",\n    \"Shield\": \"shields\",\n    \"Tactical Shift\": \"tactical_shifts\",\n    \"Own Goal Against\": \"own_goal_againsts\",\n    \"Own Goal For\": \"own_goal_fors\",\n    \"Bad Behaviour\": \"bad_behaviours\",\n    \"Player Off\": \"player_offs\",\n    \"Player On\": \"player_ons\",\n    \"50/50\": \"50/50s\",\n    \"Error\": \"errors\",\n    \"Offside\": \"offsides\",\n}\n\n\ndef flatten_event(event, flatten_attrs):\n    if flatten_attrs:\n        ev_type = event[\"type\"][\"name\"].lower().replace(\" \", \"_\").replace(\"*\", \"\")\n        ev_type = ev_type if event[\"type\"][\"name\"] != \"Goal Keeper\" else \"goalkeeper\"\n        if ev_type in event:\n            for k, v in event[ev_type].items():\n                event[f\"{ev_type}_{k}\"] = v\n            del event[ev_type]\n\n    for k, v in event.copy().items():\n        if isinstance(v, dict) and \"name\" in v:\n            event[k] = v[\"name\"]\n            if k in [\"possession_team\", \"player\", \"team\", \"pass_recipient\"]:\n                event[f\"{k}_id\"] = v[\"id\"]\n    return event\n\n\ndef filter_and_group_events(events, filters, fmt, flatten_attrs):\n    events_ = defaultdict(list)\n    for ev in events.values():\n        ev_type = PLURALS[ev[\"type\"][\"name\"]]\n        if not is_relevant(ev, filters):\n            continue\n        if fmt == \"dataframe\":\n            ev = flatten_event(ev, flatten_attrs)\n        events_[ev_type].append(ev)\n    return events_\n\n\ndef is_relevant(event, filters):\n    return all(event.get(\"type\", {}).get(\"name\") == v for k, v in filters.items())\n\n\nOPEN_DATA_PATHS = {\n    \"competitions\": \"https://raw.githubusercontent.com/statsbomb/open-data/master/data/competitions.json\",\n    \"matches\": \"https://raw.githubusercontent.com/statsbomb/open-data/master/data/matches/{competition_id}/{season_id}.json\",\n    \"lineups\": \"https://raw.githubusercontent.com/statsbomb/open-data/master/data/lineups/{match_id}.json\",\n    \"events\": \"https://raw.githubusercontent.com/statsbomb/open-data/master/data/events/{match_id}.json\",\n    \"frames\": \"https://raw.githubusercontent.com/statsbomb/open-data/master/data/three-sixty/{match_id}.json\",\n}\n\ndef ents_events(events: list, match_id: int) -> dict:\n    events_ = {}\n    for ev in events:\n        ev[\"match_id\"] = match_id\n        events_[ev[\"id\"]] = ev\n    return events_\n\nasync def get_response(path):\n    '''\n    response = req.get(path)\n    response.raise_for_status()\n    data = response.json()\n    '''\n\n    # example retrieving the default html file on the demo website\n    res = await fetch(path)\n    text = await res.text()\n    data = json.loads(text)\n    return data\n\nasync def public_events(match_id: int) -> dict:\n    path = OPEN_DATA_PATHS[\"events\"].format(match_id=match_id)\n    events = await get_response(path)\n    events2 = ents_events(events, match_id)\n    return events2\n\n\nasync def sb_events(\n    match_id: int,\n    split: bool = False,\n    filters: dict = {},\n    fmt: str = \"dataframe\",\n    flatten_attrs: bool = True,\n) -> Union[pd.DataFrame, dict]:\n\n    events = await public_events(match_id)\n\n    if fmt == \"dataframe\":\n        events = filter_and_group_events(events, filters, fmt, flatten_attrs)\n        for ev_type, evs in events.items():\n            events[ev_type] = pd.DataFrame(evs)\n        if split is False:\n            events = pd.concat([*events.values()], axis=0, ignore_index=True, sort=True)\n    return events\n",
      "metadata": {
        "trusted": true,
        "tags": [],
        "editable": true,
        "slideshow": {
          "slide_type": ""
        }
      },
      "outputs": [],
      "execution_count": null
    },
    {
      "cell_type": "markdown",
      "source": "## How many Right Footed goals in the England vs Norway game?",
      "metadata": {
        "tags": [],
        "editable": true,
        "slideshow": {
          "slide_type": "slide"
        }
      }
    },
    {
      "cell_type": "code",
      "source": "# Start the timer\nexample_1_start_time = time.time() \n\nmatch_id = EURO22MATCHES['England vs Norway']\n\nevents = await sb_events(match_id=match_id)\n\nevents = events.query(\"type == 'Shot' and shot_outcome=='Goal'\")\n\n#Enter your answers here\n\nright_footed_goals = len(events.query(\"shot_body_part == 'Right Foot'\"))\ntime_taken_in_seconds = time.time() - example_1_start_time\n\nprint(\"Right Footed Goals in the Norway game from data =\", right_footed_goals)\nprint(\"Time Taken In Seconds\", time_taken_in_seconds)\n\nevents[['timestamp','period','shot_body_part', 'shot_outcome']]",
      "metadata": {
        "tags": [],
        "editable": true,
        "slideshow": {
          "slide_type": ""
        },
        "trusted": true
      },
      "outputs": [],
      "execution_count": null
    },
    {
      "cell_type": "code",
      "source": "",
      "metadata": {
        "trusted": true,
        "tags": [],
        "editable": true,
        "slideshow": {
          "slide_type": ""
        }
      },
      "outputs": [],
      "execution_count": null
    },
    {
      "cell_type": "markdown",
      "source": "### Task 2 : How many Headed goals in the England vs Sweden game?\n\nChange the code below so that :\n1. It's using the data for the \"England vs Sweden\" game. \n2. It's filtering for \"Head\" goals instead of \"Right Foot\" \n3. Click the run triangle or press \"Shift + Enter\"",
      "metadata": {
        "tags": [],
        "editable": true,
        "slideshow": {
          "slide_type": "slide"
        }
      }
    },
    {
      "cell_type": "code",
      "source": "# Start the timer\ntask_2_start_time = time.time() \n\nmatch_id = EURO22MATCHES['England vs Norway']\n\nevents = await sb_events(match_id=match_id)\n\nevents = events.query(\"type == 'Shot' and shot_outcome=='Goal' and shot_body_part == 'Right Foot'\")\n\ntime_taken_in_seconds = time.time() - task_2_start_time\n\nprint(\"Headed Goals in the Sweden game =\", len(events))\nprint(\"Time Taken In Seconds\", time_taken_in_seconds)\n\nevents[['timestamp','period','shot_body_part', 'shot_outcome']]\n",
      "metadata": {
        "tags": [],
        "editable": true,
        "slideshow": {
          "slide_type": ""
        },
        "trusted": true
      },
      "outputs": [],
      "execution_count": null
    },
    {
      "cell_type": "code",
      "source": "",
      "metadata": {
        "trusted": true
      },
      "outputs": [],
      "execution_count": null
    },
    {
      "cell_type": "markdown",
      "source": "### Extension\n\nList all the shots in the \"Netherlands vs Sweden\" game with the player, team and shot technique as well\n\nThe available field names are :\n\n'50_50', 'ball_receipt_outcome', 'ball_recovery_offensive',\r\n       'ball_recovery_recovery_failure', 'block_deflection',\r\n       'carry_end_location', 'clearance_aerial_won', 'clearance_body_part',\r\n       'clearance_head', 'clearance_left_foot', 'clearance_other',\r\n       'clearance_right_foot', 'counterpress', 'dribble_no_touch',\r\n       'dribble_nutmeg', 'dribble_outcome', 'dribble_overrun', 'duel_outcome',\r\n       'duel_type', 'duration', 'foul_committed_advantage',\r\n       'foul_committed_card', 'foul_committed_penalty', 'foul_won_advantage',\r\n       'foul_won_defensive', 'foul_won_penalty', 'goalkeeper_body_part',\r\n       'goalkeeper_end_location', 'goalkeeper_outcome', 'goalkeeper_position',\r\n       'goalkeeper_shot_saved_off_target', 'goalkeeper_technique',\r\n       'goalkeeper_type', 'id', 'index', 'injury_stoppage_in_chain',\r\n       'interception_outcome', 'location', 'match_id', 'minute',\r\n       'miscontrol_aerial_won', 'off_camera', 'out', 'pass_aerial_won',\r\n       'pass_angle', 'pass_assisted_shot_id', 'pass_body_part', 'pass_cross',\r\n       'pass_cut_back', 'pass_end_location', 'pass_goal_assist', 'pass_height',\r\n       'pass_inswinging', 'pass_length', 'pass_no_touch', 'pass_outcome',\r\n       'pass_recipient', 'pass_recipient_id', 'pass_shot_assist',\r\n       'pass_switch', 'pass_technique', 'pass_through_ball', 'pass_type',\r\n       'period', 'play_pattern', 'player', 'player_id', 'position',\r\n       'possession', 'possession_team', 'possession_team_id', 'related_events',\r\n       'second', 'shot_aerial_won', 'shot_body_part', 'shot_deflected',\r\n       'shot_end_location', 'shot_first_time', 'shot_freeze_frame',\r\n       'shot_key_pass_id', 'shot_open_goal', 'shot_outcome',\r\n       'shot_saved_off_target', 'shot_statsbomb_xg', 'shot_technique',\r\n       'shot_type', 'substitution_outcome', 'substitution_replacement',\r\n       'tactics', 'team', 'team_id', 'timestamp', 'type', 'under_pressure'\n",
      "metadata": {
        "tags": [],
        "editable": true,
        "slideshow": {
          "slide_type": "slide"
        }
      }
    },
    {
      "cell_type": "code",
      "source": "# Start the timer\nmatch_id = EURO22MATCHES['England vs Norway']\n\nevents = await sb_events(match_id=match_id)\nevents = events.query(\"type == 'Shot' and shot_outcome=='Goal' and shot_body_part == 'Right Foot'\")\n\nevents[['timestamp','period','shot_body_part', 'shot_outcome']]",
      "metadata": {
        "trusted": true,
        "tags": [],
        "editable": true,
        "slideshow": {
          "slide_type": ""
        }
      },
      "outputs": [],
      "execution_count": null
    },
    {
      "cell_type": "markdown",
      "source": "# Save and Close this file",
      "metadata": {
        "tags": [],
        "editable": true,
        "slideshow": {
          "slide_type": "slide"
        }
      }
    },
    {
      "cell_type": "code",
      "source": "",
      "metadata": {
        "trusted": true,
        "tags": [],
        "editable": true,
        "slideshow": {
          "slide_type": ""
        }
      },
      "outputs": [],
      "execution_count": null
    }
  ]
}