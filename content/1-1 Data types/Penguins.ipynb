{
  "metadata": {
    "kernelspec": {
      "name": "python",
      "display_name": "Python (Pyodide)",
      "language": "python"
    },
    "language_info": {
      "codemirror_mode": {
        "name": "python",
        "version": 3
      },
      "file_extension": ".py",
      "mimetype": "text/x-python",
      "name": "python",
      "nbconvert_exporter": "python",
      "pygments_lexer": "ipython3",
      "version": "3.8"
    },
    "kernel_info": {
      "name": "python"
    },
    "nteract": {
      "version": "nteract-front-end@1.0.0"
    }
  },
  "nbformat_minor": 4,
  "nbformat": 4,
  "cells": [
    {
      "cell_type": "markdown",
      "source": "# Structured & Quantitative example:\n## What's the biggest Penguin?\n",
      "metadata": {
        "tags": [],
        "editable": true,
        "slideshow": {
          "slide_type": "slide"
        }
      }
    },
    {
      "cell_type": "code",
      "source": "import micropip\nawait micropip.install(\"pandas\")",
      "metadata": {
        "jupyter": {
          "source_hidden": false,
          "outputs_hidden": false
        },
        "nteract": {
          "transient": {
            "deleting": false
          }
        },
        "collapsed": false,
        "trusted": true,
        "tags": [],
        "editable": true,
        "slideshow": {
          "slide_type": ""
        }
      },
      "outputs": [],
      "execution_count": null
    },
    {
      "cell_type": "markdown",
      "source": "## Let's load some measurements of individual Penguins",
      "metadata": {
        "tags": [],
        "editable": true,
        "slideshow": {
          "slide_type": "slide"
        }
      }
    },
    {
      "cell_type": "code",
      "source": "from bokeh.plotting import figure, show\nfrom bokeh.sampledata.penguins import data\nfrom bokeh.transform import factor_cmap, factor_mark\n\ndata",
      "metadata": {
        "jupyter": {
          "source_hidden": false,
          "outputs_hidden": false
        },
        "nteract": {
          "transient": {
            "deleting": false
          }
        },
        "collapsed": false,
        "trusted": true,
        "tags": [],
        "editable": true,
        "slideshow": {
          "slide_type": ""
        }
      },
      "outputs": [],
      "execution_count": null
    },
    {
      "cell_type": "code",
      "source": "",
      "metadata": {
        "trusted": true
      },
      "outputs": [],
      "execution_count": null
    },
    {
      "cell_type": "markdown",
      "source": "## Scatter graph Time",
      "metadata": {
        "tags": [],
        "editable": true,
        "slideshow": {
          "slide_type": "slide"
        }
      }
    },
    {
      "cell_type": "code",
      "source": "SPECIES = sorted(data.species.unique())\nMARKERS = ['hex', 'circle_x', 'triangle']\n\np = figure(title = \"Penguin size\", background_fill_color=\"#fafafa\")\np.xaxis.axis_label = 'Flipper Length (mm)'\np.yaxis.axis_label = 'Body Mass (g)'\n\np.scatter(\"flipper_length_mm\", \"body_mass_g\", source=data,\n          legend_group=\"species\", fill_alpha=0.4, size=12,\n          marker=factor_mark('species', MARKERS, SPECIES),\n          color=factor_cmap('species', 'Category10_3', SPECIES))\n\np.legend.location = \"top_left\"\np.legend.title = \"Species\"\n\nfrom bokeh.io import output_notebook\noutput_notebook()\n\ntry:\n    show(p)\nexcept ImportError:\n    pass",
      "metadata": {
        "jupyter": {
          "source_hidden": false,
          "outputs_hidden": false
        },
        "nteract": {
          "transient": {
            "deleting": false
          }
        },
        "collapsed": false,
        "trusted": true,
        "tags": [],
        "editable": true,
        "slideshow": {
          "slide_type": ""
        }
      },
      "outputs": [],
      "execution_count": null
    },
    {
      "cell_type": "markdown",
      "source": "### What's the biggest Penguin?\n\n??",
      "metadata": {
        "tags": [],
        "editable": true,
        "slideshow": {
          "slide_type": ""
        }
      }
    },
    {
      "cell_type": "markdown",
      "source": "## Extension :  Effictiveness of Antibiotics",
      "metadata": {
        "tags": [],
        "editable": true,
        "slideshow": {
          "slide_type": "slide"
        }
      }
    },
    {
      "cell_type": "code",
      "source": "# Ish via https://til.simonwillison.net/python/sqlite-in-pyodide\nfrom js import fetch\n \nasync def load_file_into_in_mem_filesystem(url, fn=None):\n    \"\"\"Load a file from a URL into an in-memory filesystem.\"\"\"\n     \n    # Create a filename if required\n    fn = fn if fn is not None else url.split(\"/\")[-1]\n     \n    # Fetch file from URL\n    res = await fetch(url)\n     \n    # Buffer it\n    buffer = await res.arrayBuffer()\n     \n    # Write file to in-memory file system\n    open(fn, \"wb\").write(bytes(buffer.valueOf().to_py()))\n \n    return fn\n    \nfrom math import log, sqrt\n\nimport numpy as np\n\nfrom bokeh.plotting import figure, show\nfrom bokeh.sampledata.antibiotics import data as df\nfrom bokeh.io import output_notebook",
      "metadata": {
        "jupyter": {
          "source_hidden": false,
          "outputs_hidden": false
        },
        "nteract": {
          "transient": {
            "deleting": false
          }
        },
        "collapsed": false,
        "trusted": true,
        "tags": [],
        "editable": true,
        "slideshow": {
          "slide_type": ""
        }
      },
      "outputs": [],
      "execution_count": null
    },
    {
      "cell_type": "markdown",
      "source": "## The data",
      "metadata": {
        "tags": [],
        "editable": true,
        "slideshow": {
          "slide_type": "slide"
        }
      }
    },
    {
      "cell_type": "code",
      "source": "df",
      "metadata": {
        "jupyter": {
          "source_hidden": false,
          "outputs_hidden": false
        },
        "nteract": {
          "transient": {
            "deleting": false
          }
        },
        "collapsed": false,
        "trusted": true,
        "tags": [],
        "editable": true,
        "slideshow": {
          "slide_type": ""
        }
      },
      "outputs": [],
      "execution_count": null
    },
    {
      "cell_type": "code",
      "source": "",
      "metadata": {
        "trusted": true,
        "tags": [],
        "editable": true,
        "slideshow": {
          "slide_type": ""
        }
      },
      "outputs": [],
      "execution_count": null
    },
    {
      "cell_type": "markdown",
      "source": "## The diagram",
      "metadata": {
        "tags": [],
        "editable": true,
        "slideshow": {
          "slide_type": "slide"
        }
      }
    },
    {
      "cell_type": "code",
      "source": "drug_color = dict([\n    (\"Penicillin\",   \"#0d3362\"),\n    (\"Streptomycin\", \"#c64737\"),\n    (\"Neomycin\",     \"black\"  ),\n])\n\ngram_color = dict([\n    (\"negative\", \"#e69584\"),\n    (\"positive\", \"#aeaeb8\"),\n])\n\nwidth = 800\nheight = 800\ninner_radius = 90\nouter_radius = 300 - 10\n\nminr = sqrt(log(.001 * 1E4))\nmaxr = sqrt(log(1000 * 1E4))\na = (outer_radius - inner_radius) / (minr - maxr)\nb = inner_radius - a * maxr\n\ndef rad(mic):\n    return a * np.sqrt(np.log(mic * 1E4)) + b\n\nbig_angle = 2.0 * np.pi / (len(df) + 1)\nsmall_angle = big_angle / 7\n\np = figure(width=width, height=height, title=\"\",\n    x_axis_type=None, y_axis_type=None,\n    x_range=(-420, 420), y_range=(-420, 420),\n    min_border=0, outline_line_color=\"black\",\n    background_fill_color=\"#f0e1d2\")\n\np.xgrid.grid_line_color = None\np.ygrid.grid_line_color = None\n\n# annular wedges\nangles = np.pi/2 - big_angle/2 - df.index.to_series()*big_angle\ncolors = [gram_color[gram] for gram in df.gram]\np.annular_wedge(\n    0, 0, inner_radius, outer_radius, -big_angle+angles, angles, color=colors,\n)\n\n# small wedges\np.annular_wedge(0, 0, inner_radius, rad(df.penicillin),\n                -big_angle+angles+5*small_angle, -big_angle+angles+6*small_angle,\n                color=drug_color['Penicillin'])\np.annular_wedge(0, 0, inner_radius, rad(df.streptomycin),\n                -big_angle+angles+3*small_angle, -big_angle+angles+4*small_angle,\n                color=drug_color['Streptomycin'])\np.annular_wedge(0, 0, inner_radius, rad(df.neomycin),\n                -big_angle+angles+1*small_angle, -big_angle+angles+2*small_angle,\n                color=drug_color['Neomycin'])\n\n# circular axes and lables\nlabels = np.power(10.0, np.arange(-3, 4))\nradii = a * np.sqrt(np.log(labels * 1E4)) + b\np.circle(0, 0, radius=radii, fill_color=None, line_color=\"white\")\np.text(0, radii[:-1], [str(r) for r in labels[:-1]],\n       text_font_size=\"11px\", text_align=\"center\", text_baseline=\"middle\")\n\n# radial axes\np.annular_wedge(0, 0, inner_radius-10, outer_radius+10,\n                -big_angle+angles, -big_angle+angles, color=\"black\")\n\n# bacteria labels\nxr = radii[0]*np.cos(np.array(-big_angle/2 + angles))\nyr = radii[0]*np.sin(np.array(-big_angle/2 + angles))\nlabel_angle=np.array(-big_angle/2+angles)\nlabel_angle[label_angle < -np.pi/2] += np.pi # easier to read labels on the left side\np.text(xr, yr, df.bacteria, angle=label_angle,\n       text_font_size=\"12px\", text_align=\"center\", text_baseline=\"middle\")\n\n# OK, these hand drawn legends are pretty clunky, will be improved in future release\np.circle([-40, -40], [-370, -390], color=list(gram_color.values()), radius=5)\np.text([-30, -30], [-370, -390], text=[\"Gram-\" + gr for gr in gram_color.keys()],\n       text_font_size=\"9px\", text_align=\"left\", text_baseline=\"middle\")\n\np.rect([-40, -40, -40], [18, 0, -18], width=30, height=13,\n       color=list(drug_color.values()))\np.text([-15, -15, -15], [18, 0, -18], text=list(drug_color),\n       text_font_size=\"12px\", text_align=\"left\", text_baseline=\"middle\")\n\n\n\noutput_notebook()\n\ntry:\n    show(p)\nexcept ImportError:\n    pass\n",
      "metadata": {
        "jupyter": {
          "source_hidden": false,
          "outputs_hidden": false
        },
        "nteract": {
          "transient": {
            "deleting": false
          }
        },
        "collapsed": false,
        "trusted": true,
        "tags": [],
        "editable": true,
        "slideshow": {
          "slide_type": ""
        }
      },
      "outputs": [],
      "execution_count": null
    },
    {
      "cell_type": "code",
      "source": "",
      "metadata": {
        "jupyter": {
          "source_hidden": false,
          "outputs_hidden": false
        },
        "nteract": {
          "transient": {
            "deleting": false
          }
        },
        "collapsed": false,
        "trusted": true
      },
      "outputs": [],
      "execution_count": null
    },
    {
      "cell_type": "markdown",
      "source": "## Save and Close",
      "metadata": {
        "jupyter": {
          "source_hidden": false,
          "outputs_hidden": false
        },
        "nteract": {
          "transient": {
            "deleting": false
          }
        },
        "collapsed": false,
        "tags": [],
        "editable": true,
        "slideshow": {
          "slide_type": "slide"
        }
      }
    },
    {
      "cell_type": "code",
      "source": "",
      "metadata": {
        "trusted": true,
        "tags": [],
        "editable": true,
        "slideshow": {
          "slide_type": ""
        }
      },
      "outputs": [],
      "execution_count": null
    }
  ]
}